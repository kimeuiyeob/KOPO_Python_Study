{
 "cells": [
  {
   "cell_type": "code",
   "execution_count": 1,
   "id": "a42df01b",
   "metadata": {},
   "outputs": [
    {
     "name": "stdout",
     "output_type": "stream",
     "text": [
      "1 2 3 4 5\n"
     ]
    }
   ],
   "source": [
    "#a에 리스트 1,2,3,4,5 저장한다.\n",
    "a=[1,2,3,4,5]\n",
    "#순서대로 출력한다.\n",
    "print(a[0],a[1],a[2],a[3],a[4])"
   ]
  },
  {
   "cell_type": "code",
   "execution_count": 2,
   "id": "48db482b",
   "metadata": {},
   "outputs": [
    {
     "name": "stdout",
     "output_type": "stream",
     "text": [
      "11 abc 12.3333 안녕 (2+3j)\n"
     ]
    }
   ],
   "source": [
    "#파이썬은 자바와는 다르게 다른타입도 같이 저장된다.\n",
    "a=[11,\"abc\",12.3333,\"안녕\",2+3j]\n",
    "a[0],a[1],a[2],a[3],a[4]\n",
    "print(a[0],a[1],a[2],a[3],a[4])"
   ]
  },
  {
   "cell_type": "code",
   "execution_count": 3,
   "id": "7d56018b",
   "metadata": {},
   "outputs": [
    {
     "name": "stdout",
     "output_type": "stream",
     "text": [
      "[11, 1234, 12.3333, '안녕', '홍길동']\n"
     ]
    }
   ],
   "source": [
    "#이렇게 인덱스로 값을 변경도 할수있다.\n",
    "a[1]=1234; a[4]=\"홍길동\"\n",
    "print(a)"
   ]
  },
  {
   "cell_type": "code",
   "execution_count": 7,
   "id": "4c9aea8e",
   "metadata": {},
   "outputs": [
    {
     "name": "stdout",
     "output_type": "stream",
     "text": [
      "점수( 90 )\n",
      "점수( 80 )\n",
      "점수( 70 )\n",
      "점수( 60 )\n",
      "점수( 30 )\n",
      "총점: 330\n"
     ]
    }
   ],
   "source": [
    "#score 리스트 값 90,80,70,60,30 저장\n",
    "score=[90,80,70,60,30]\n",
    "#누적할 변수 생성\n",
    "sum=0\n",
    "#값을 하나씩 s로 꺼내와서\n",
    "for s in score:\n",
    "    #출력학ㅎ sum에다 누적\n",
    "    print(\"점수(\",s,\")\")\n",
    "    sum+=s\n",
    "        \n",
    "print(\"총점:\",sum)"
   ]
  },
  {
   "cell_type": "code",
   "execution_count": 9,
   "id": "d416b57c",
   "metadata": {},
   "outputs": [
    {
     "name": "stdout",
     "output_type": "stream",
     "text": [
      "1 1\n",
      "2 2\n",
      "3 3\n",
      "4 4\n",
      "5 5\n"
     ]
    }
   ],
   "source": [
    "#역방향으로 -n + -1로 지정할수 있다.\n",
    "#즉 -5,-4,-3,-2,-1순으로 저장\n",
    "a=[1,2,3,4,5]\n",
    "print(a[0],a[-5])\n",
    "print(a[1],a[-4])\n",
    "print(a[2],a[-3])\n",
    "print(a[3],a[-2])\n",
    "print(a[4],a[-1])"
   ]
  },
  {
   "cell_type": "code",
   "execution_count": 10,
   "id": "62a0948a",
   "metadata": {},
   "outputs": [
    {
     "name": "stdout",
     "output_type": "stream",
     "text": [
      "[3, 4, 5, 6, 7, 8]\n",
      "[1, 2, 3, 4]\n",
      "[6, 7, 8, 9, 10]\n",
      "[1, 4]\n"
     ]
    }
   ],
   "source": [
    "a=[1,2,3,4,5,6,7,8,9,10]\n",
    "print(a[2:8]) # 2부터 8보다 작을 때까지(2,3,4,5,6,7)\n",
    "print(a[:4]) #처음부터 4보다 작을 때까지(0,1,2,3)\n",
    "print(a[5:]) #5부터 끝까지\n",
    "print(a[0:6:3]) #0부터 6보다 작을때 까지(6은 제외 0,3)"
   ]
  },
  {
   "cell_type": "code",
   "execution_count": 11,
   "id": "bf55dc35",
   "metadata": {},
   "outputs": [
    {
     "name": "stdout",
     "output_type": "stream",
     "text": [
      "[7, 8, 9]\n",
      "9\n"
     ]
    }
   ],
   "source": [
    "# 리스트로 구성된 리스트\n",
    "a=[[1,2,3],[4,5,6],[7,8,9]]\n",
    "#두번째 인덱스 출략\n",
    "print(a[2])\n",
    "#두번째 인덱스의 두번째 인덱스 출력\n",
    "print(a[2][2])"
   ]
  },
  {
   "cell_type": "code",
   "execution_count": 12,
   "id": "383cc161",
   "metadata": {},
   "outputs": [
    {
     "ename": "IndexError",
     "evalue": "list index out of range",
     "output_type": "error",
     "traceback": [
      "\u001b[1;31m---------------------------------------------------------------------------\u001b[0m",
      "\u001b[1;31mIndexError\u001b[0m                                Traceback (most recent call last)",
      "Cell \u001b[1;32mIn[12], line 1\u001b[0m\n\u001b[1;32m----> 1\u001b[0m \u001b[38;5;28mprint\u001b[39m(\u001b[43ma\u001b[49m\u001b[43m[\u001b[49m\u001b[38;5;241;43m1\u001b[39;49m\u001b[43m]\u001b[49m\u001b[43m[\u001b[49m\u001b[38;5;241;43m3\u001b[39;49m\u001b[43m]\u001b[49m)\n",
      "\u001b[1;31mIndexError\u001b[0m: list index out of range"
     ]
    }
   ],
   "source": [
    "#범위를 벗어나 에러\n",
    "print(a[1][3])"
   ]
  },
  {
   "cell_type": "code",
   "execution_count": 14,
   "id": "01acfd41",
   "metadata": {},
   "outputs": [
    {
     "name": "stdout",
     "output_type": "stream",
     "text": [
      "6\n",
      "[[1, 2], [3, 4, 5], 6]\n",
      "6\n",
      "[3, 4, 5]\n"
     ]
    }
   ],
   "source": [
    "print(a[1][2])\n",
    "#a에 리스트 안에 리스트 값 초기화\n",
    "a=[[1,2],[3,4,5],6]\n",
    "print(a)\n",
    "#a의 두번째 인덱스 출력\n",
    "print(a[2])\n",
    "#a의 첫번째 인덱스 출력\n",
    "print(a[1])"
   ]
  },
  {
   "cell_type": "code",
   "execution_count": 15,
   "id": "59f0f747",
   "metadata": {},
   "outputs": [
    {
     "name": "stdout",
     "output_type": "stream",
     "text": [
      "[3, 6, 9, 12, 15, 18, 21, 24, 27]\n"
     ]
    }
   ],
   "source": [
    "#1부터 10으로 리스트를 구성하여 그 요소 하나하나에 3을 곱한다\n",
    "a=[ n * 3 for n in range (1,10)]\n",
    "print(a)"
   ]
  },
  {
   "cell_type": "code",
   "execution_count": 16,
   "id": "650e123a",
   "metadata": {},
   "outputs": [
    {
     "name": "stdout",
     "output_type": "stream",
     "text": [
      "[6, 12, 18, 24]\n"
     ]
    }
   ],
   "source": [
    "#위랑 동일한데 조건문에 2로 나누어떨어지는 값만 저장\n",
    "a=[ n * 3 for n in range (1,10) if n % 2 ==0 ]\n",
    "print(a)"
   ]
  },
  {
   "cell_type": "code",
   "execution_count": 77,
   "id": "ca58294e",
   "metadata": {},
   "outputs": [
    {
     "name": "stdout",
     "output_type": "stream",
     "text": [
      "==================================================\n",
      "이름\t국어\t영어\t수학\t총점\t평균\n",
      "==================================================\n",
      "나연 \t 100 \t 90 \t 100 \t 290 \t 96\n",
      "정연 \t 90 \t 90 \t 100 \t 280 \t 93\n",
      "모모 \t 80 \t 70 \t 90 \t 240 \t 80\n",
      "사나 \t 90 \t 90 \t 80 \t 260 \t 86\n",
      "지효 \t 100 \t 80 \t 80 \t 260 \t 86\n",
      "미나 \t 50 \t 90 \t 90 \t 230 \t 76\n",
      "다현 \t 80 \t 60 \t 100 \t 240 \t 80\n",
      "채영 \t 70 \t 80 \t 90 \t 240 \t 80\n",
      "쯔위 \t 100 \t 90 \t 90 \t 280 \t 93\n",
      "==================================================\n",
      "반총점\t 760 \t 740 \t 820 \t 2320 \t 85.0\n",
      "==================================================\n"
     ]
    }
   ],
   "source": [
    "#이중 리스트로 값들을 초기화 한다.\n",
    "score=[[\"나연\",100,90,100],\n",
    "        [\"정연\",90,90,100],\n",
    "        [\"모모\",80,70,90],\n",
    "        [\"사나\",90,90,80],\n",
    "        [\"지효\",100,80,80],\n",
    "        [\"미나\",50,90,90],\n",
    "        [\"다현\",80,60,100],\n",
    "        [\"채영\",70,80,90],\n",
    "        [\"쯔위\",100,90,90]]\n",
    "\n",
    "name=0;kor=1;eng=2;mat=3\n",
    "\n",
    "#타이틀 출력\n",
    "def title():\n",
    "    print(\"=\"*50)\n",
    "    print(\"이름\\t국어\\t영어\\t수학\\t총점\\t평균\")\n",
    "    print(\"=\"*50)\n",
    "\n",
    "#score 리스트에 있는 값들을 하나씩 꺼내와 출력한다.\n",
    "def titleprint():\n",
    "    for one_student in score:\n",
    "        #itemprint함수 호출에 매게변수로 값을 보낸다.\n",
    "        itemprint(one_student[name],one_student[kor],one_student[eng],one_student[mat])\n",
    "\n",
    "#값을 받으면 합계와 평균을 구해서 출력한다.\n",
    "def itemprint(name,kor,eng,mat):\n",
    "    print(name,\"\\t\",kor,\"\\t\",eng,\"\\t\",mat,\"\\t\",kor+eng+mat,\"\\t\",(kor+eng+mat)//3)\n",
    "    \n",
    "#총점을 출력한다\n",
    "def tailprint():\n",
    "    #총점을 누적할 변수들 생성\n",
    "    totkor=0\n",
    "    toteng=0\n",
    "    totmat=0\n",
    "    #각각의 학생을 반복돌려 점수를 누적한다.\n",
    "    for one_student in score:\n",
    "        totkor+=one_student[kor]\n",
    "        toteng+=one_student[eng]\n",
    "        totmat+=one_student[mat]\n",
    "    print(\"=\"*50)\n",
    "    #국어,영어,수학, 합계, 평균을 출력한다\n",
    "    print(\"반총점\\t\",totkor,\"\\t\",toteng,\"\\t\",totmat,\"\\t\",(totkor+toteng+totmat),\n",
    "          \"\\t\",(totkor+toteng+totmat)/3//9)\n",
    "    print(\"=\"*50)\n",
    "\n",
    "  \n",
    "title()\n",
    "titleprint()\n",
    "tailprint()"
   ]
  },
  {
   "cell_type": "code",
   "execution_count": 35,
   "id": "be4567d4",
   "metadata": {},
   "outputs": [
    {
     "name": "stdout",
     "output_type": "stream",
     "text": [
      "[1, 2, 3, 4, 5]\n",
      "[1, 2, 4, 5]\n",
      "[1, 2, 5]\n",
      "[]\n"
     ]
    },
    {
     "ename": "NameError",
     "evalue": "name 'a' is not defined",
     "output_type": "error",
     "traceback": [
      "\u001b[1;31m---------------------------------------------------------------------------\u001b[0m",
      "\u001b[1;31mNameError\u001b[0m                                 Traceback (most recent call last)",
      "Cell \u001b[1;32mIn[35], line 10\u001b[0m\n\u001b[0;32m      8\u001b[0m \u001b[38;5;28mprint\u001b[39m(a)\n\u001b[0;32m      9\u001b[0m \u001b[38;5;28;01mdel\u001b[39;00m a\n\u001b[1;32m---> 10\u001b[0m \u001b[38;5;28mprint\u001b[39m(\u001b[43ma\u001b[49m)\n",
      "\u001b[1;31mNameError\u001b[0m: name 'a' is not defined"
     ]
    }
   ],
   "source": [
    "#리스트 값 초기화\n",
    "a=[1,2,3,4,5]\n",
    "#출력\n",
    "print(a)\n",
    "#인덱스 두번째 삭제\n",
    "del a[2]\n",
    "#삭제되고 뒤에께 앞으로 땡겨진다\n",
    "print(a)\n",
    "del a[2]\n",
    "print(a)\n",
    "#다 지운더\n",
    "a.clear()\n",
    "#빈 리스트 출력\n",
    "print(a)\n",
    "#리스트까지 지운다\n",
    "del a\n",
    "#출력할께 없다\n",
    "print(a)"
   ]
  },
  {
   "cell_type": "code",
   "execution_count": 38,
   "id": "703a2bb4",
   "metadata": {
    "scrolled": true
   },
   "outputs": [
    {
     "ename": "NameError",
     "evalue": "name 'a' is not defined",
     "output_type": "error",
     "traceback": [
      "\u001b[1;31m---------------------------------------------------------------------------\u001b[0m",
      "\u001b[1;31mNameError\u001b[0m                                 Traceback (most recent call last)",
      "Cell \u001b[1;32mIn[38], line 1\u001b[0m\n\u001b[1;32m----> 1\u001b[0m \u001b[43ma\u001b[49m\u001b[38;5;241m.\u001b[39mappend(\u001b[38;5;241m1\u001b[39m)\n",
      "\u001b[1;31mNameError\u001b[0m: name 'a' is not defined"
     ]
    }
   ],
   "source": [
    "#a가 없기때문에 에러가 난다.\n",
    "a.append(1)"
   ]
  },
  {
   "cell_type": "code",
   "execution_count": 39,
   "id": "0f75e8d2",
   "metadata": {},
   "outputs": [
    {
     "name": "stdout",
     "output_type": "stream",
     "text": [
      "[1, 3, 5]\n",
      "[4, 5, 6, 10]\n"
     ]
    }
   ],
   "source": [
    "#빈리스트 생성\n",
    "a=[]\n",
    "#값을 1,3,5 추가한다.\n",
    "a.append(1)\n",
    "a.append(3)\n",
    "a.append(5)\n",
    "#출력한다.\n",
    "print(a)\n",
    "#a에 4,5,6값 초기화\n",
    "a=[4,5,6]\n",
    "#10값 추가한다.\n",
    "a.append(10)\n",
    "#출력\n",
    "print(a)"
   ]
  },
  {
   "cell_type": "code",
   "execution_count": 40,
   "id": "716cf2be",
   "metadata": {},
   "outputs": [
    {
     "name": "stdout",
     "output_type": "stream",
     "text": [
      "[1, 2, 3, 4, 5, 6]\n",
      "[1, 2, 3, 12, 4, 5, 6]\n",
      "[1, 2, 3, 12, 15, 4, 5, 6]\n",
      "[1, 2, 3, 1, 12, 15, 4, 5, 6]\n"
     ]
    }
   ],
   "source": [
    "#a에 1,2,3,4,5 리스트 생성뒤 갑 대입\n",
    "a=[1,2,3,4,5]\n",
    "#마지막에 6 추가\n",
    "a.append(6)\n",
    "print(a)\n",
    "#3번째 인덱스에 12추가\n",
    "a.insert(3,12)\n",
    "print(a)\n",
    "#4번째 인덱스에 15추가\n",
    "a.insert(4,15)\n",
    "print(a)\n",
    "a.insert(3,1)\n",
    "print(a)"
   ]
  },
  {
   "cell_type": "code",
   "execution_count": 45,
   "id": "35da35f1",
   "metadata": {},
   "outputs": [
    {
     "name": "stdout",
     "output_type": "stream",
     "text": [
      "[1, 2, 3, 1, 12, 1, 2, 3, 4, 5, 6, 15, 4, 5, 6]\n"
     ]
    }
   ],
   "source": [
    "#여러 값 삽입시 a[n:n]사용 5인덱스에 값 추가\n",
    "a=[1, 2, 3, 1, 12, 15, 4, 5, 6]\n",
    "a[5:5]=[1,2,3,4,5,6]\n",
    "print(a)"
   ]
  },
  {
   "cell_type": "code",
   "execution_count": 42,
   "id": "d8a43d97",
   "metadata": {},
   "outputs": [
    {
     "name": "stdout",
     "output_type": "stream",
     "text": [
      "[1, 2, 3, 1, 12, [1, 2, 3, 4, 5, 6], 4, 5, 6]\n"
     ]
    }
   ],
   "source": [
    "#a[n] 대입하면 리스트가 대입된다\n",
    "a=[1, 2, 3, 1, 12, 15, 4, 5, 6]\n",
    "a[5]=[1,2,3,4,5,6]\n",
    "print(a)"
   ]
  },
  {
   "cell_type": "code",
   "execution_count": 46,
   "id": "e78b4d75",
   "metadata": {},
   "outputs": [
    {
     "name": "stdout",
     "output_type": "stream",
     "text": [
      "[1, 2, 3, 4, 5, 6]\n",
      "[1, 2, 3, 4, 5, 6]\n"
     ]
    }
   ],
   "source": [
    "a=[1,2,3]\n",
    "b=[4,5,6]\n",
    "#a리스트와 b리스트를 합친다.\n",
    "a=a+b\n",
    "print(a)\n",
    "a=[1,2,3]\n",
    "b=[4,5,6]\n",
    "#위랑 같은 의미이다.(연결)\n",
    "a.extend(b)\n",
    "print(a)"
   ]
  },
  {
   "cell_type": "code",
   "execution_count": 47,
   "id": "16624026",
   "metadata": {},
   "outputs": [
    {
     "name": "stdout",
     "output_type": "stream",
     "text": [
      "[1, 2, 3, 3, 4, 4, 5, 6, 7, 7, 7, 7, 8]\n",
      "[1, 2, 3, 3, 4, 4, 5, 6, 7, 7, 7, 8]\n",
      "[1, 2, 3, 3, 4, 4, 5, 6, 7, 7, 8]\n",
      "[1, 2, 3, 3, 4, [], 5, 6, 7, 7, 8]\n",
      "[1, 2, 4, [], 5, 6, 7, 7, 8]\n"
     ]
    }
   ],
   "source": [
    "a=[1,2,3,3,4,4,5,6,7,7,7,7,8]\n",
    "print(a)\n",
    "a.remove(7) #첫 번째 만나는 7값을 가진 리스트 삭제\n",
    "print(a)\n",
    "a.remove(7) #첫 번째 만나는 7값을 가진 리스트 삭제\n",
    "print(a)\n",
    "a[5]=[] #다섯 번째에 빈 값[]이 들어 있는 리스트를 추가한다.\n",
    "print(a)\n",
    "a[2:4]=[]\n",
    "print(a)"
   ]
  },
  {
   "cell_type": "code",
   "execution_count": 48,
   "id": "9854a087",
   "metadata": {},
   "outputs": [
    {
     "name": "stdout",
     "output_type": "stream",
     "text": [
      "[1, 2, 4, [], 6, 7, 7, 8]\n",
      "[1, 2, 4, 6, 7, 7, 8]\n",
      "[]\n"
     ]
    },
    {
     "ename": "NameError",
     "evalue": "name 'a' is not defined",
     "output_type": "error",
     "traceback": [
      "\u001b[1;31m---------------------------------------------------------------------------\u001b[0m",
      "\u001b[1;31mNameError\u001b[0m                                 Traceback (most recent call last)",
      "Cell \u001b[1;32mIn[48], line 8\u001b[0m\n\u001b[0;32m      6\u001b[0m \u001b[38;5;28mprint\u001b[39m(a)\n\u001b[0;32m      7\u001b[0m \u001b[38;5;28;01mdel\u001b[39;00m(a) \u001b[38;5;66;03m#리스트 정의까지 삭제\u001b[39;00m\n\u001b[1;32m----> 8\u001b[0m \u001b[38;5;28mprint\u001b[39m(\u001b[43ma\u001b[49m)\n",
      "\u001b[1;31mNameError\u001b[0m: name 'a' is not defined"
     ]
    }
   ],
   "source": [
    "#4번째 인덱스값 삭제한다.\n",
    "del(a[4])\n",
    "print(a)\n",
    "#3번째 인덱스값 삭제한다.\n",
    "del(a[3])\n",
    "print(a)\n",
    "a.clear() #다 지우나 빈 값에 리스트가 남음\n",
    "print(a)\n",
    "del(a) #리스트 정의까지 삭제\n",
    "print(a)"
   ]
  },
  {
   "cell_type": "code",
   "execution_count": 54,
   "id": "3f876fcb",
   "metadata": {},
   "outputs": [
    {
     "name": "stdout",
     "output_type": "stream",
     "text": [
      "8\n",
      "7\n",
      "[1, 2, 3, 3, 4, 4, 5, 6, 7, 7, 7]\n",
      "7\n",
      "3\n",
      "[1, 2, 3, 4, 4, 5, 6, 7, 7]\n",
      "6\n",
      "[1, 2, 3, 4, 4, 5, 7, 7]\n",
      "7\n",
      "1\n",
      "[2, 3, 4, 4, 5, 7]\n"
     ]
    }
   ],
   "source": [
    "#pop()은 해당위치를 값을 보여주고 삭제한다. n이 없다면 마지막값 리턴\n",
    "a=[1,2,3,3,4,4,5,6,7,7,7,7,8]\n",
    "print(a.pop())\n",
    "print(a.pop())\n",
    "print(a)\n",
    "print(a.pop())\n",
    "print(a.pop(3))\n",
    "print(a)\n",
    "print(a.pop(6))\n",
    "print(a)\n",
    "print(a.pop(6))\n",
    "print(a.pop(0))\n",
    "print(a)"
   ]
  },
  {
   "cell_type": "code",
   "execution_count": 56,
   "id": "f93bcd4e",
   "metadata": {
    "scrolled": true
   },
   "outputs": [
    {
     "name": "stdout",
     "output_type": "stream",
     "text": [
      "8\n",
      "12\n",
      "4\n",
      "4\n"
     ]
    }
   ],
   "source": [
    "a=[1,2,3,3,4,4,5,6,7,7,7,7,8]\n",
    "print(a.index(7)) #첫번째 7의 위치를 알려줌\n",
    "print(a.index(8)) #값 8의 위치는 12(0부터 시작)\n",
    "print(a.index(4)) #값 4의 위치는 4(0부터 시작)\n",
    "print(a.count(7)) #7은 4번 나옴"
   ]
  },
  {
   "cell_type": "code",
   "execution_count": 57,
   "id": "f16db164",
   "metadata": {},
   "outputs": [
    {
     "name": "stdout",
     "output_type": "stream",
     "text": [
      "1\n",
      "8\n",
      "13\n"
     ]
    }
   ],
   "source": [
    "a=[1,2,3,3,4,4,5,6,7,7,7,7,8]\n",
    "#a리스트 최소값 출력\n",
    "print(min(a))\n",
    "#최대값 출력\n",
    "print(max(a))\n",
    "#리스트 갯수 출력\n",
    "print(len(a))"
   ]
  },
  {
   "cell_type": "code",
   "execution_count": 58,
   "id": "04b6c19c",
   "metadata": {},
   "outputs": [
    {
     "name": "stdout",
     "output_type": "stream",
     "text": [
      "[4, 9, 6, 2, 5, 4, 2, 6, 5, 8, 1]\n",
      "[1, 2, 2, 4, 4, 5, 5, 6, 6, 8, 9]\n"
     ]
    }
   ],
   "source": [
    "a=[1,8,5,6,2,4,5,2,6,9,4]\n",
    "#a리스트를 거꾸로 뒤집는다.\n",
    "a.reverse()\n",
    "print(a)\n",
    "#a리스트를 순서대로 정렬한다.(오름차순)\n",
    "a.sort()\n",
    "print(a)"
   ]
  },
  {
   "cell_type": "code",
   "execution_count": 76,
   "id": "fe652381",
   "metadata": {},
   "outputs": [
    {
     "name": "stdout",
     "output_type": "stream",
     "text": [
      "==================================================\n",
      "이름\t국어\t영어\t수학\t총점\t평균\n",
      "==================================================\n",
      "name0 \t 22 \t 88 \t 38 \t 148 \t 49\n",
      "name1 \t 84 \t 19 \t 54 \t 157 \t 52\n",
      "name2 \t 92 \t 57 \t 69 \t 218 \t 72\n",
      "name3 \t 68 \t 79 \t 85 \t 232 \t 77\n",
      "name4 \t 76 \t 29 \t 46 \t 151 \t 50\n",
      "name5 \t 45 \t 71 \t 49 \t 165 \t 55\n",
      "name6 \t 21 \t 45 \t 81 \t 147 \t 49\n",
      "name7 \t 85 \t 69 \t 32 \t 186 \t 62\n",
      "name8 \t 77 \t 50 \t 22 \t 149 \t 49\n",
      "name9 \t 27 \t 86 \t 35 \t 148 \t 49\n",
      "==================================================\n",
      "반총점\t 597 \t 593 \t 511 \t 1701 \t 63.0\n",
      "==================================================\n"
     ]
    }
   ],
   "source": [
    "import random as r #랜덤함수 사용하기 위해서 임포트\n",
    "\n",
    "ame=0;kor=1;eng=2;mat=3\n",
    "#값을 담아줄 리스트 생성\n",
    "one_person=[]\n",
    "score=[]\n",
    "#10번 반복 돈다.\n",
    "for i in range(10):\n",
    "    #리스트에 값을 추가한다 이름과 점수를 10~100사이 랜덤값 가져와서 추가한다.\n",
    "    one_person.append(\"name\"+str(i)) #이름\n",
    "    one_person.append(r.randrange(10,100)) #국어 10부터 100까지 임의에 값을 추출\n",
    "    one_person.append(r.randrange(10,100)) #영어\n",
    "    one_person.append(r.randrange(10,100)) #수학\n",
    "    score.append(one_person[:]) #값을 복사해서 추가함에 주의할 것\n",
    "    #score리스트에 그대로 다 추가하고 one_person리스트는 값을 비운다.\n",
    "    one_person.clear()\n",
    "\n",
    "#타이틀 출력\n",
    "def title():\n",
    "    print(\"=\"*50)\n",
    "    print(\"이름\\t국어\\t영어\\t수학\\t총점\\t평균\")\n",
    "    print(\"=\"*50)\n",
    "\n",
    "#score 리스트에 있는 값들을 하나씩 꺼내와 출력한다.\n",
    "def titleprint():\n",
    "    #score리스트 값 하나하나 가져와 반복돈다\n",
    "    for one_student in score:\n",
    "        #itemprint함수 호출하여 값을 보내준다.\n",
    "        itemprint(one_student[name],one_student[kor],one_student[eng],one_student[mat])\n",
    "        \n",
    "#파라미터로 값을 받고 점수들과 합계 평균을 출력한다.\n",
    "def itemprint(name,kor,eng,mat):\n",
    "    print(name,\"\\t\",kor,\"\\t\",eng,\"\\t\",mat,\"\\t\",kor+eng+mat,\"\\t\",(kor+eng+mat)//3)\n",
    "    \n",
    "#총점을 출력한다\n",
    "def tailprint():\n",
    "    #총점을 누적할 변수들 생성\n",
    "    totkor=0\n",
    "    toteng=0\n",
    "    totmat=0\n",
    "    #각각의 학생을 반복돌려 점수를 누적한다.\n",
    "    for one_student in score:\n",
    "        totkor+=one_student[kor]\n",
    "        toteng+=one_student[eng]\n",
    "        totmat+=one_student[mat]\n",
    "    print(\"=\"*50)\n",
    "    #국어,영어,수학, 합계, 평균을 출력한다\n",
    "    print(\"반총점\\t\",totkor,\"\\t\",toteng,\"\\t\",totmat,\"\\t\",(totkor+toteng+totmat),\n",
    "          \"\\t\",(totkor+toteng+totmat)/3//9)\n",
    "    print(\"=\"*50)\n",
    "\n",
    "#메서드들 호출한다.\n",
    "title()\n",
    "titleprint()\n",
    "tailprint()\n"
   ]
  },
  {
   "cell_type": "code",
   "execution_count": 78,
   "id": "830cafec",
   "metadata": {
    "scrolled": true
   },
   "outputs": [
    {
     "name": "stdout",
     "output_type": "stream",
     "text": [
      "(1, 8, 5, 6, 2, 4, 5, 2, 6, 9, 4)\n",
      "4\n",
      "(6, 2)\n",
      "(6, 2, 4, 5, 2)\n",
      "(1, 8, 5, 6, 2, 4, 5, 2, 6, 9, 4, 1, 8, 5, 6, 2, 4, 5, 2, 6, 9, 4)\n"
     ]
    }
   ],
   "source": [
    "#튜블은 값을 변경할수 없다. ()로 정의\n",
    "#근데 아래처럼 출력은 가능하다.\n",
    "a=(1,8,5,6,2,4,5,2,6,9,4)\n",
    "#a출력\n",
    "print(a)\n",
    "#5번째 인덱스 출력\n",
    "print(a[5])\n",
    "#3번4번인덱스 출력\n",
    "print(a[3:5])\n",
    "#3부터 7까지 출력\n",
    "print(a[3:8])\n",
    "#a곱해서 출력\n",
    "print(a*2)"
   ]
  },
  {
   "cell_type": "code",
   "execution_count": 79,
   "id": "5488e5cc",
   "metadata": {},
   "outputs": [
    {
     "ename": "TypeError",
     "evalue": "'tuple' object does not support item assignment",
     "output_type": "error",
     "traceback": [
      "\u001b[1;31m---------------------------------------------------------------------------\u001b[0m",
      "\u001b[1;31mTypeError\u001b[0m                                 Traceback (most recent call last)",
      "Cell \u001b[1;32mIn[79], line 1\u001b[0m\n\u001b[1;32m----> 1\u001b[0m \u001b[43ma\u001b[49m\u001b[43m[\u001b[49m\u001b[38;5;241;43m1\u001b[39;49m\u001b[43m]\u001b[49m\u001b[38;5;241m=\u001b[39m\u001b[38;5;241m5\u001b[39m\n",
      "\u001b[1;31mTypeError\u001b[0m: 'tuple' object does not support item assignment"
     ]
    }
   ],
   "source": [
    " a[1]=5"
   ]
  },
  {
   "cell_type": "code",
   "execution_count": 80,
   "id": "ae16d553",
   "metadata": {},
   "outputs": [
    {
     "name": "stdout",
     "output_type": "stream",
     "text": [
      "((2, 17403), (41, 40338))\n"
     ]
    }
   ],
   "source": [
    "def location():\n",
    "    latitude = 2, 17403 # 위도\n",
    "    longitude=41,40338 #경도\n",
    "    return latitude,longitude #이런방식의 리턴은 튜플로 반환\n",
    "\n",
    "a=location()\n",
    "print(a)"
   ]
  },
  {
   "cell_type": "code",
   "execution_count": null,
   "id": "61ea39ad",
   "metadata": {},
   "outputs": [],
   "source": []
  }
 ],
 "metadata": {
  "kernelspec": {
   "display_name": "Python 3 (ipykernel)",
   "language": "python",
   "name": "python3"
  },
  "language_info": {
   "codemirror_mode": {
    "name": "ipython",
    "version": 3
   },
   "file_extension": ".py",
   "mimetype": "text/x-python",
   "name": "python",
   "nbconvert_exporter": "python",
   "pygments_lexer": "ipython3",
   "version": "3.8.8rc1"
  }
 },
 "nbformat": 4,
 "nbformat_minor": 5
}
