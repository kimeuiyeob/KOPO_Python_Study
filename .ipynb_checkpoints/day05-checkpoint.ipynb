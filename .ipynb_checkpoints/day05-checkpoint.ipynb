{
 "cells": [
  {
   "cell_type": "code",
   "execution_count": 1,
   "id": "3ac963aa",
   "metadata": {},
   "outputs": [
    {
     "name": "stdout",
     "output_type": "stream",
     "text": [
      "넌 이름이 뭐니?김의엽\n",
      "어서오십시오 형님!!!\n"
     ]
    }
   ],
   "source": [
    "#input()함수를 통해 문자열을 입력받아 name에 담는다.\n",
    "name = input(\"넌 이름이 뭐니?\")\n",
    "#만약 name이 김의엽과 같다면 아래 출력문 실행\n",
    "if name ==  \"김의엽\" :\n",
    "    print(\"어서오십시오 형님!!!\")"
   ]
  },
  {
   "cell_type": "code",
   "execution_count": 3,
   "id": "306267e5",
   "metadata": {},
   "outputs": [
    {
     "name": "stdout",
     "output_type": "stream",
     "text": [
      "성별이 어떻게 되시나요?여자\n",
      "남자가 아니구만!!\n"
     ]
    }
   ],
   "source": [
    "name = input(\"성별이 어떻게 되시나요?\")\n",
    "if name == \"남자\" : \n",
    "    print(\"훌륭하구만!!\")\n",
    "else :\n",
    "    print(\"남자가 아니구만!!\")"
   ]
  },
  {
   "cell_type": "code",
   "execution_count": 4,
   "id": "283a8643",
   "metadata": {},
   "outputs": [
    {
     "name": "stdout",
     "output_type": "stream",
     "text": [
      "얼마를 구매하셨나요?50000\n",
      "세금은 10% 입니다.\n"
     ]
    }
   ],
   "source": [
    "#금액을 비교할거라서 int형으로 입력을 받아 price에 담는다.\n",
    "price = int(input(\"얼마를 구매하셨나요?\"))\n",
    "#만약 price가 10000보다 작다면 아래 출력\n",
    "if price < 10000 : \n",
    "    print(\"면세 입니당.\")\n",
    "#더 비싸면 아래 출력\n",
    "else :\n",
    "    print(\"세금은 10% 입니다.\")"
   ]
  },
  {
   "cell_type": "code",
   "execution_count": 6,
   "id": "05f90d54",
   "metadata": {},
   "outputs": [
    {
     "name": "stdout",
     "output_type": "stream",
     "text": [
      "a는 100입니다\n",
      "a는 100 이상입니다\n"
     ]
    }
   ],
   "source": [
    "#a 100 초기화\n",
    "a = 100\n",
    "#만약 a가 99라면 아래 출력\n",
    "if (a == 99) : print(\"a는 99입니다\")\n",
    "#만약 a가 100라면 아래 출력\n",
    "if (a == 100) : print(\"a는 100입니다\")\n",
    "#만약 a가 100이상이라면 아래 출력\n",
    "if (a >= 100) : print(\"a는 100 이상입니다\")\n",
    "#만약 a가 100보다 작다면 아래 출력\n",
    "if (a < 100) : print(\"a는 100 미만입니다\")"
   ]
  },
  {
   "cell_type": "code",
   "execution_count": 15,
   "id": "2c3c276e",
   "metadata": {},
   "outputs": [
    {
     "name": "stdout",
     "output_type": "stream",
     "text": [
      "abc이다\n",
      "abc보다 큰문자이다2\n"
     ]
    }
   ],
   "source": [
    "#a 에 문자열 abc 초기화\n",
    "a = \"abc\"\n",
    "#만약 a가 abc와 같다면 아래 출력\n",
    "#같으니까 아래 출력\n",
    "if (a == \"abc\") : print(\"abc이다\")\n",
    "#a가 abc랑 같으니까 아래 출력 안함\n",
    "if (a > \"abc\") : print(\"abc보다 큰문자이다1\")\n",
    "#a 에 abd 초기화\n",
    "a = \"abd\"\n",
    "#a만약 a가 abc보다 크다면 아래 출력\n",
    "#d가 c보다 크니까 아래 출력\n",
    "if(a > \"abc\") : print(\"abc보다 큰문자이다2\")\n",
    "a = \"abb\"\n",
    "#abc가 abb보다 크니까 아래 출력 안함\n",
    "if (a > \"abc\") : print(\"abc보다 큰문자이다3\")"
   ]
  },
  {
   "cell_type": "code",
   "execution_count": 16,
   "id": "3164e195",
   "metadata": {},
   "outputs": [
    {
     "name": "stdout",
     "output_type": "stream",
     "text": [
      "점수를 입력하셔요~~100\n",
      "학점은 A입니다.\n"
     ]
    }
   ],
   "source": [
    "#점수 비교라 정수형으로 입력받는다.\n",
    "x = int(input(\"점수를 입력하셔요~~\"))\n",
    "#만약 x가 0이상이고 60아래면 출력\n",
    "if 0 <= x and x < 60 : print(\"학점은 F입니다.\")\n",
    "#만약 x가 60이상이고 70아래면 출력\n",
    "if 60 <= x and x < 70 : print(\"학점은 D입니다.\")\n",
    "#만약 x가 70이상이고 80아래면 출력\n",
    "if 70 <= x and x < 80 : print(\"학점은 C입니다.\")\n",
    "#만약 x가 80이상이고 90아래면 출력\n",
    "if 80 <= x and x < 90 : print(\"학점은 B입니다.\")\n",
    "#만약 x가 90이상이고 100이하면 출력\n",
    "if 90 <= x and x <= 100 : print(\"학점은 A입니다.\")"
   ]
  },
  {
   "cell_type": "code",
   "execution_count": 17,
   "id": "67df868c",
   "metadata": {},
   "outputs": [
    {
     "name": "stdout",
     "output_type": "stream",
     "text": [
      "영문 알파벳 한글자를 입력하셔~~B\n",
      "대문자 입니다.\n"
     ]
    }
   ],
   "source": [
    "#x에 문자열을 입력받는다.\n",
    "x = input(\"영문 알파벳 한글자를 입력하셔~~\")\n",
    "#만약 x에 입력한 문자열이 a이상이고 z이하면 아래 출력\n",
    "if \"a\" <= x and x <= \"z\" : print(\"소문자 입니다.\")\n",
    "#만약 x에 입력한 문자열이 A이상이고 Z이하면 아래 출력\n",
    "if \"A\" <= x and x <= \"Z\" : print(\"대문자 입니다.\")"
   ]
  },
  {
   "cell_type": "code",
   "execution_count": 18,
   "id": "19e90b39",
   "metadata": {},
   "outputs": [
    {
     "ename": "IndentationError",
     "evalue": "unexpected indent (1801309596.py, line 4)",
     "output_type": "error",
     "traceback": [
      "\u001b[1;36m  Cell \u001b[1;32mIn[18], line 4\u001b[1;36m\u001b[0m\n\u001b[1;33m    a = a - 50\u001b[0m\n\u001b[1;37m    ^\u001b[0m\n\u001b[1;31mIndentationError\u001b[0m\u001b[1;31m:\u001b[0m unexpected indent\n"
     ]
    }
   ],
   "source": [
    "a=100\n",
    "if a > 50:\n",
    "    #들여쓰기가 잘못되서 에러\n",
    "    print (\"50보다 큰수는 50을 빼겠습니다.\")\n",
    "        a = a - 50"
   ]
  },
  {
   "cell_type": "code",
   "execution_count": 19,
   "id": "d3a8fd5f",
   "metadata": {},
   "outputs": [
    {
     "name": "stdout",
     "output_type": "stream",
     "text": [
      "50보다 큰수는 50을 빼겠습니다.\n",
      "50\n"
     ]
    }
   ],
   "source": [
    "a=100\n",
    "#만약 a가 50보다 크다면 아래 출력\n",
    "if a > 50:\n",
    "    print (\"50보다 큰수는 50을 빼겠습니다.\")\n",
    "#a에서 50을 뺀 50을 다시 a에 담는다.\n",
    "a = a - 50\n",
    "print(a)"
   ]
  },
  {
   "cell_type": "code",
   "execution_count": 20,
   "id": "23ec555a",
   "metadata": {},
   "outputs": [
    {
     "name": "stdout",
     "output_type": "stream",
     "text": [
      "점수를 입력바람!! 0~100 까지~~74\n",
      "학점은 C입니다\n"
     ]
    }
   ],
   "source": [
    "#x에 정수 입력 받는다.\n",
    "x=int(input(\"점수를 입력바람!! 0~100 까지~~\"))\n",
    "#만약 x가 90 이상이면 아래 출력\n",
    "if x >= 90 : print (\"학점은 A입니다\")\n",
    "#아니면 x가 80 이상이면 아래 출력\n",
    "elif x >= 80 : print (\"학점은 B입니다\")\n",
    "#아니면 x가 70 이상이면 아래 출력\n",
    "elif x >= 70 : print (\"학점은 C입니다\")\n",
    "#아니면 x가 60 이상이면 아래 출력\n",
    "elif x >= 60 : print (\"학점은 D입니다\")\n",
    "#아니면 아래 출력\n",
    "else : print (\"학점은 F입니다\")"
   ]
  },
  {
   "cell_type": "code",
   "execution_count": 22,
   "id": "e4b25a8b",
   "metadata": {},
   "outputs": [
    {
     "name": "stdout",
     "output_type": "stream",
     "text": [
      "숫자를 입력해주세요~~3\n",
      "3의 배수인 홀수 입니다\n"
     ]
    }
   ],
   "source": [
    "#x에 정수 입력 받는다.\n",
    "x=int(input(\"숫자를 입력해주세요~~\"))\n",
    "#만약 x가 2로 나눠서 나머지가 0이라면 일단 짝수\n",
    "if x % 2 == 0 :\n",
    "    #만약 x가 4로 나눠서 나머지가 0이면 4의배수 아래 출력\n",
    "    if x % 4== 0 : print(\"4의 배수인 짝수입니당\")\n",
    "    #아니면 4의배수가 아니다 아래 출력\n",
    "    else: print(\"4의 배수가 아닌 짝수입니다\")\n",
    "#x가 3으로 나눠떨어지면 아래 출력\n",
    "elif x % 3== 0: print(\"3의 배수인 홀수 입니다\")\n",
    "#아니면 3의배수가 아닌 홀수만 들어오게 된다.\n",
    "else : print(\"3의 배수가 아닌 홀수입니다\")"
   ]
  },
  {
   "cell_type": "code",
   "execution_count": 8,
   "id": "b9576878",
   "metadata": {},
   "outputs": [
    {
     "name": "stdout",
     "output_type": "stream",
     "text": [
      "**************************************************\n",
      "총 금액 :  1000000 원  달러 환율 :  1010.12 $\n",
      "지금 달러 :  988 $\n",
      "거스름돈 :  5 원  은행 수수료 :  1996 원\n",
      "**************************************************\n"
     ]
    }
   ],
   "source": [
    "amount = 1000000 #금액\n",
    "moneyEx = 1010.12 #환율\n",
    "commission = 0.002 #은행수수료\n",
    "\n",
    "#1달러당 환율금액과 수수료 합\n",
    "a = moneyEx + moneyEx * commission \n",
    "# 100만원에서 a를 나누면 소수점이 나오는데 형변환해서 소수점 버린다.\n",
    "usd = int (amount / a) \n",
    "\n",
    "# 거스름돈 계산 =100만원 - 달러액*(환율+달러당 수수료)# 소수점 아래는 버린다.\n",
    "remain = int(amount - usd * a)\n",
    "# 환전 수수료 총 금액 계산, 금액은 소수점이하 올림처리\n",
    "commission = usd * moneyEx * commission \n",
    "\n",
    "if(commission != float(int(commission))) : # 소수점 확인 조건문\n",
    "    commission = int(commission) +1 #소수점이 있다면 올림 처리\n",
    "else:\n",
    "    commission = int(commission) #소수점 아래 숫자가 그냥 처리\n",
    "\n",
    "\n",
    "print(\"*\"*50);\n",
    "print(\"총 금액 : \" ,amount,\"원  달러 환율 : \" ,moneyEx ,\"$\");\n",
    "print(\"지금 달러 : \" ,usd, \"$\");\n",
    "print(\"거스름돈 : \" ,remain,\"원  은행 수수료 : \" ,commission,\"원\");\n",
    "print(\"*\"*50);"
   ]
  },
  {
   "cell_type": "code",
   "execution_count": null,
   "id": "27a00600",
   "metadata": {},
   "outputs": [],
   "source": []
  }
 ],
 "metadata": {
  "kernelspec": {
   "display_name": "Python 3 (ipykernel)",
   "language": "python",
   "name": "python3"
  },
  "language_info": {
   "codemirror_mode": {
    "name": "ipython",
    "version": 3
   },
   "file_extension": ".py",
   "mimetype": "text/x-python",
   "name": "python",
   "nbconvert_exporter": "python",
   "pygments_lexer": "ipython3",
   "version": "3.8.8rc1"
  }
 },
 "nbformat": 4,
 "nbformat_minor": 5
}
