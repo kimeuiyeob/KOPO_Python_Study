{
 "cells": [
  {
   "cell_type": "code",
   "execution_count": 1,
   "id": "2cb405c6",
   "metadata": {},
   "outputs": [
    {
     "name": "stdout",
     "output_type": "stream",
     "text": [
      "3 4 2859\n"
     ]
    }
   ],
   "source": [
    "a=3\n",
    "b=4\n",
    "#c는 123 + (456 * 6)\n",
    "c=123+456*6 \n",
    "print(a,b,c)\n",
    "#결과는 3 4 2859가 출력된다."
   ]
  },
  {
   "cell_type": "code",
   "execution_count": 2,
   "id": "7dda3860",
   "metadata": {},
   "outputs": [
    {
     "ename": "SyntaxError",
     "evalue": "expression cannot contain assignment, perhaps you meant \"==\"? (4274709336.py, line 4)",
     "output_type": "error",
     "traceback": [
      "\u001b[1;36m  Cell \u001b[1;32mIn[2], line 4\u001b[1;36m\u001b[0m\n\u001b[1;33m    print(a+b=c)\u001b[0m\n\u001b[1;37m          ^\u001b[0m\n\u001b[1;31mSyntaxError\u001b[0m\u001b[1;31m:\u001b[0m expression cannot contain assignment, perhaps you meant \"==\"?\n"
     ]
    }
   ],
   "source": [
    "a=3\n",
    "b=4\n",
    "c=123+456*6\n",
    "print(a+b=c)"
   ]
  },
  {
   "cell_type": "code",
   "execution_count": 3,
   "id": "6cfca067",
   "metadata": {},
   "outputs": [
    {
     "ename": "SyntaxError",
     "evalue": "expression cannot contain assignment, perhaps you meant \"==\"? (72575802.py, line 4)",
     "output_type": "error",
     "traceback": [
      "\u001b[1;36m  Cell \u001b[1;32mIn[3], line 4\u001b[1;36m\u001b[0m\n\u001b[1;33m    print(123+456=a)\u001b[0m\n\u001b[1;37m          ^\u001b[0m\n\u001b[1;31mSyntaxError\u001b[0m\u001b[1;31m:\u001b[0m expression cannot contain assignment, perhaps you meant \"==\"?\n"
     ]
    }
   ],
   "source": [
    "a=3\n",
    "b=4\n",
    "c=123+456*6\n",
    "print(123+456=a)"
   ]
  },
  {
   "cell_type": "code",
   "execution_count": 4,
   "id": "87699e46",
   "metadata": {},
   "outputs": [
    {
     "ename": "TypeError",
     "evalue": "unsupported operand type(s) for +: 'int' and 'str'",
     "output_type": "error",
     "traceback": [
      "\u001b[1;31m---------------------------------------------------------------------------\u001b[0m",
      "\u001b[1;31mTypeError\u001b[0m                                 Traceback (most recent call last)",
      "Cell \u001b[1;32mIn[4], line 2\u001b[0m\n\u001b[0;32m      1\u001b[0m a \u001b[38;5;241m=\u001b[39m \u001b[38;5;241m1\u001b[39m\n\u001b[1;32m----> 2\u001b[0m a \u001b[38;5;241m=\u001b[39m \u001b[43ma\u001b[49m\u001b[43m \u001b[49m\u001b[38;5;241;43m+\u001b[39;49m\u001b[43m \u001b[49m\u001b[38;5;124;43m\"\u001b[39;49m\u001b[38;5;124;43m안녕\u001b[39;49m\u001b[38;5;124;43m\"\u001b[39;49m\n",
      "\u001b[1;31mTypeError\u001b[0m: unsupported operand type(s) for +: 'int' and 'str'"
     ]
    }
   ],
   "source": [
    "a = 1\n",
    "a = a + \"안녕\" \n",
    "#정수와 문자열을 더하려고 하니까 에러가 난다."
   ]
  },
  {
   "cell_type": "code",
   "execution_count": 5,
   "id": "9d202d00",
   "metadata": {},
   "outputs": [
    {
     "name": "stdout",
     "output_type": "stream",
     "text": [
      "1 2\n",
      "2 1\n"
     ]
    }
   ],
   "source": [
    "a = 1\n",
    "b = 2\n",
    "#위에 선언된대로 출력된다.\n",
    "print(a,b)\n",
    "a,b = b,a\n",
    "#위에처럼 값을 서로 바꿀수가 있다.\n",
    "print(a,b)"
   ]
  },
  {
   "cell_type": "code",
   "execution_count": 6,
   "id": "f0800130",
   "metadata": {},
   "outputs": [
    {
     "name": "stdout",
     "output_type": "stream",
     "text": [
      "1 2 안녕 하세요~ 3 4\n"
     ]
    }
   ],
   "source": [
    "a,b,c,d,e,f = 1,2,\"안녕\",\"하세요~\",3,4\n",
    "#,를 기준으로 각가의 변수에 값이 담긴거다.\n",
    "print(a,b,c,d,e,f)"
   ]
  },
  {
   "cell_type": "code",
   "execution_count": 7,
   "id": "1e5edd8f",
   "metadata": {},
   "outputs": [
    {
     "name": "stdout",
     "output_type": "stream",
     "text": [
      "1 1\n",
      "1 2\n"
     ]
    }
   ],
   "source": [
    "a=b=1\n",
    "#1을 b에다 대입하고 b의 값을 a에 대입한다.\n",
    "#1,1이 출력된다.\n",
    "print(a,b)\n",
    "b=2\n",
    "#위에 b의 값을 수정해서 1,2 출력\n",
    "print(a,b)"
   ]
  },
  {
   "cell_type": "code",
   "execution_count": 8,
   "id": "83f773fc",
   "metadata": {},
   "outputs": [
    {
     "name": "stdout",
     "output_type": "stream",
     "text": [
      "[1, 2, 3] [1, 2, 3]\n",
      "[1, 4, 3] [1, 4, 3]\n"
     ]
    }
   ],
   "source": [
    "a=b=[1,2,3]\n",
    "#배열생성뒤 1,2,3값을 넣은뒤 a,b에 담는다.\n",
    "#a,b를 출력한다.\n",
    "print(a,b)\n",
    "#a의 첫번째 인덱스의 값을 4로 변경한다.\n",
    "a[1] = 4\n",
    "print(a,b)"
   ]
  },
  {
   "cell_type": "code",
   "execution_count": 9,
   "id": "887e6de3",
   "metadata": {},
   "outputs": [
    {
     "name": "stdout",
     "output_type": "stream",
     "text": [
      "[1, 2, 3, 4, 5] [1, 2, 3, 4, 5]\n",
      "[1, 2, 5, 4, 5] [1, 2, 3, 4, 5]\n"
     ]
    }
   ],
   "source": [
    "#a변수에 배열값을 1,2,3,4,5 담는다. \n",
    "a=[1,2,3,4,5]\n",
    "#a값을 복사해서 b에 담는다.\n",
    "b=a[:]\n",
    "#출력한다.\n",
    "print(a,b)\n",
    "#a의 2번째 인덱스를 5로 변경한다.\n",
    "a[2] = 5\n",
    "#그럼 a의 값만 변경되서 출력된다.\n",
    "print(a,b)"
   ]
  },
  {
   "cell_type": "code",
   "execution_count": 10,
   "id": "414f1acc",
   "metadata": {},
   "outputs": [
    {
     "name": "stdout",
     "output_type": "stream",
     "text": [
      "29\n"
     ]
    }
   ],
   "source": [
    "import sys\n",
    "a = 123\n",
    "print(sys.getrefcount(123))"
   ]
  },
  {
   "cell_type": "code",
   "execution_count": 11,
   "id": "700c0446",
   "metadata": {},
   "outputs": [
    {
     "name": "stdout",
     "output_type": "stream",
     "text": [
      "33\n",
      "34\n",
      "35\n"
     ]
    }
   ],
   "source": [
    "import sys\n",
    "#a 123값 대입\n",
    "a = 123\n",
    "#123을 어느 공간에 만들어 놓고 참조하는 방식이다.\n",
    "print(sys.getrefcount(123))\n",
    "b = 123;\n",
    "#b=123을 만나면 참조횟수가 증가한다.\n",
    "print(sys.getrefcount(123))\n",
    "c = 123;\n",
    "print(sys.getrefcount(123))"
   ]
  },
  {
   "cell_type": "code",
   "execution_count": 14,
   "id": "1064aebd",
   "metadata": {},
   "outputs": [
    {
     "name": "stdout",
     "output_type": "stream",
     "text": [
      "2.5\n",
      "8\n",
      "3.3333333333333335\n",
      "1.23456789012e+23\n",
      "(124+14j)\n"
     ]
    }
   ],
   "source": [
    "## **거듭제곱\n",
    "print(1+2*3/4)\n",
    "print(2**3)\n",
    "print(10/3)\n",
    "print(1e12*123456789012)\n",
    "a=1+2j\n",
    "print(a+(123+12j))"
   ]
  },
  {
   "cell_type": "code",
   "execution_count": 15,
   "id": "0f669a42",
   "metadata": {},
   "outputs": [
    {
     "name": "stdout",
     "output_type": "stream",
     "text": [
      "2.5\n",
      "2\n",
      "1\n"
     ]
    }
   ],
   "source": [
    "print(5/2)\n",
    "## // 정수형 나눗셈\n",
    "print(5//2)\n",
    "## % 나머지\n",
    "print(5%2)"
   ]
  },
  {
   "cell_type": "code",
   "execution_count": 16,
   "id": "704285d9",
   "metadata": {},
   "outputs": [
    {
     "name": "stdout",
     "output_type": "stream",
     "text": [
      "2\n",
      "2\n",
      "4\n",
      "0\n",
      "-1\n"
     ]
    }
   ],
   "source": [
    "#a에 1초기화, 1을 더해준다.\n",
    "a = 1; a=a+1; print(a)\n",
    "#a에 1초기화, 1을 더해준다.\n",
    "a = 1; a+=1; print(a)\n",
    "#2의 제곱으로 초기화\n",
    "a*=2; print(a)\n",
    "#a에 1초기화, 1을 빼준다.\n",
    "a=1; a-=1; print(a)\n",
    "#a에 -1초기화\n",
    "a-=1; print(a)"
   ]
  },
  {
   "cell_type": "code",
   "execution_count": 17,
   "id": "c275af63",
   "metadata": {},
   "outputs": [
    {
     "ename": "SyntaxError",
     "evalue": "invalid syntax (3857774950.py, line 2)",
     "output_type": "error",
     "traceback": [
      "\u001b[1;36m  Cell \u001b[1;32mIn[17], line 2\u001b[1;36m\u001b[0m\n\u001b[1;33m    a++\u001b[0m\n\u001b[1;37m       ^\u001b[0m\n\u001b[1;31mSyntaxError\u001b[0m\u001b[1;31m:\u001b[0m invalid syntax\n"
     ]
    }
   ],
   "source": [
    "a = 1\n",
    "#파이썬은 ++증감이 안된다.\n",
    "a++"
   ]
  },
  {
   "cell_type": "code",
   "execution_count": 18,
   "id": "2fd642cd",
   "metadata": {},
   "outputs": [
    {
     "ename": "SyntaxError",
     "evalue": "invalid syntax (1653859795.py, line 2)",
     "output_type": "error",
     "traceback": [
      "\u001b[1;36m  Cell \u001b[1;32mIn[18], line 2\u001b[1;36m\u001b[0m\n\u001b[1;33m    a--\u001b[0m\n\u001b[1;37m       ^\u001b[0m\n\u001b[1;31mSyntaxError\u001b[0m\u001b[1;31m:\u001b[0m invalid syntax\n"
     ]
    }
   ],
   "source": [
    "a = 1\n",
    "#파이썬은 --빼기가 안된다.\n",
    "a--"
   ]
  },
  {
   "cell_type": "code",
   "execution_count": 30,
   "id": "718f4a4b",
   "metadata": {},
   "outputs": [
    {
     "name": "stdout",
     "output_type": "stream",
     "text": [
      "1\n",
      "-1\n"
     ]
    }
   ],
   "source": [
    "#a에 양수1과 음수1을 저장뒤 출력\n",
    "a =+ 1; print(a); a =- 1; print(a)"
   ]
  },
  {
   "cell_type": "code",
   "execution_count": 31,
   "id": "40b84a41",
   "metadata": {},
   "outputs": [
    {
     "name": "stdout",
     "output_type": "stream",
     "text": [
      "멍멍이고양이\n",
      "멍멍이멍멍이멍멍이고양이고양이\n",
      "--------------------\n"
     ]
    }
   ],
   "source": [
    "a = \"멍멍이\"\n",
    "b = \"고양이\"\n",
    "#a문자열과 b문자열 합쳐서 출력\n",
    "print(a+b)\n",
    "#a문자열3번 b문자열 2번 합쳐서 출력\n",
    "print(a*3+b*2)\n",
    "#-20번 출력\n",
    "print(\"-\"*20)"
   ]
  },
  {
   "cell_type": "code",
   "execution_count": 32,
   "id": "ca21be58",
   "metadata": {},
   "outputs": [
    {
     "ename": "TypeError",
     "evalue": "can only concatenate str (not \"int\") to str",
     "output_type": "error",
     "traceback": [
      "\u001b[1;31m---------------------------------------------------------------------------\u001b[0m",
      "\u001b[1;31mTypeError\u001b[0m                                 Traceback (most recent call last)",
      "Cell \u001b[1;32mIn[32], line 2\u001b[0m\n\u001b[0;32m      1\u001b[0m a \u001b[38;5;241m=\u001b[39m \u001b[38;5;241m1\u001b[39m\n\u001b[1;32m----> 2\u001b[0m b \u001b[38;5;241m=\u001b[39m \u001b[38;5;124;43m\"\u001b[39;49m\u001b[38;5;124;43m강아지\u001b[39;49m\u001b[38;5;124;43m\"\u001b[39;49m\u001b[43m \u001b[49m\u001b[38;5;241;43m+\u001b[39;49m\u001b[43m \u001b[49m\u001b[43ma\u001b[49m \u001b[38;5;241m+\u001b[39m \u001b[38;5;124m\"\u001b[39m\u001b[38;5;124m마리\u001b[39m\u001b[38;5;124m\"\u001b[39m\n",
      "\u001b[1;31mTypeError\u001b[0m: can only concatenate str (not \"int\") to str"
     ]
    }
   ],
   "source": [
    "a = 1\n",
    "#문자열과 정수를 합쳐서 b에 초기화하려니까 에러\n",
    "b = \"강아지\" + a + \"마리\""
   ]
  },
  {
   "cell_type": "code",
   "execution_count": 33,
   "id": "daf8e882",
   "metadata": {},
   "outputs": [
    {
     "name": "stdout",
     "output_type": "stream",
     "text": [
      "강아지1마리\n"
     ]
    }
   ],
   "source": [
    "a = 1\n",
    "#a를 문자열로 형변환 해서 문자열로 b에 담음\n",
    "b = \"강아지\" + str(a) + \"마리\"\n",
    "print(b)"
   ]
  },
  {
   "cell_type": "code",
   "execution_count": 45,
   "id": "aebfce90",
   "metadata": {},
   "outputs": [
    {
     "name": "stdout",
     "output_type": "stream",
     "text": [
      "44032\n",
      "0x61\n",
      "122\n",
      "0x61 = a , 0x62 = b , 0x63 = c , 0x64 = d , 0x65 = e , 0x66 = f , 0x67 = g , 0x68 = h , 0x69 = i , 0x6a = j , 0x6b = k , 0x6c = l , 0x6d = m , 0x6e = n , 0x6f = o , 0x70 = p , 0x71 = q , 0x72 = r , 0x73 = s , 0x74 = t , 0x75 = u , 0x76 = v , 0x77 = w , 0x78 = x , 0x79 = y , 0x7a = z , "
     ]
    }
   ],
   "source": [
    "#ord()문자의 내부코드값 반환\n",
    "print(ord(\"가\"))\n",
    "#hex()16진수 표현 함수\n",
    "print(hex(ord(\"a\")))\n",
    "#a부터 z까지 반복\n",
    "#ord('a') == 97 부터 122 까지\n",
    "#각각의 숫자를 c에 담고 반복\n",
    "for c in range (ord('a'), ord('z') + 1) :\n",
    "    #출력 해당 숫자의 16진수 , 문자형으로 형변환\n",
    "    print(hex(c), \"=\", chr(c),\", \",end=\"\")"
   ]
  },
  {
   "cell_type": "code",
   "execution_count": 47,
   "id": "db200e64",
   "metadata": {},
   "outputs": [
    {
     "ename": "TypeError",
     "evalue": "can only concatenate str (not \"int\") to str",
     "output_type": "error",
     "traceback": [
      "\u001b[1;31m---------------------------------------------------------------------------\u001b[0m",
      "\u001b[1;31mTypeError\u001b[0m                                 Traceback (most recent call last)",
      "Cell \u001b[1;32mIn[47], line 1\u001b[0m\n\u001b[1;32m----> 1\u001b[0m a \u001b[38;5;241m=\u001b[39m \u001b[38;5;124m\"\u001b[39m\u001b[38;5;124m123\u001b[39m\u001b[38;5;124m\"\u001b[39m; \u001b[38;5;28mprint\u001b[39m(\u001b[43ma\u001b[49m\u001b[38;5;241;43m+\u001b[39;49m\u001b[38;5;241;43m1\u001b[39;49m)\n",
      "\u001b[1;31mTypeError\u001b[0m: can only concatenate str (not \"int\") to str"
     ]
    }
   ],
   "source": [
    "#문자열이 들어간 a에 +정수를 할수없다.\n",
    "a = \"123\"; print(a+1)"
   ]
  },
  {
   "cell_type": "code",
   "execution_count": 48,
   "id": "3231afef",
   "metadata": {},
   "outputs": [
    {
     "name": "stdout",
     "output_type": "stream",
     "text": [
      "124\n",
      "12\n"
     ]
    }
   ],
   "source": [
    "#a를 int로 형변환 한뒤 덧셈\n",
    "a = \"123\" ; print(int(a) + 1)\n",
    "#실수형 a를 int로 형변환해서 소수점 사라짐\n",
    "a = 12.3; print(int(a))"
   ]
  },
  {
   "cell_type": "code",
   "execution_count": 49,
   "id": "ba91fb58",
   "metadata": {},
   "outputs": [
    {
     "ename": "ValueError",
     "evalue": "invalid literal for int() with base 10: '12.3'",
     "output_type": "error",
     "traceback": [
      "\u001b[1;31m---------------------------------------------------------------------------\u001b[0m",
      "\u001b[1;31mValueError\u001b[0m                                Traceback (most recent call last)",
      "Cell \u001b[1;32mIn[49], line 1\u001b[0m\n\u001b[1;32m----> 1\u001b[0m a \u001b[38;5;241m=\u001b[39m \u001b[38;5;124m\"\u001b[39m\u001b[38;5;124m12.3\u001b[39m\u001b[38;5;124m\"\u001b[39m; \u001b[38;5;28mprint\u001b[39m(\u001b[38;5;28;43mint\u001b[39;49m\u001b[43m(\u001b[49m\u001b[43ma\u001b[49m\u001b[43m)\u001b[49m)\n",
      "\u001b[1;31mValueError\u001b[0m: invalid literal for int() with base 10: '12.3'"
     ]
    }
   ],
   "source": [
    "#실수형문자열로 담겨있어서 int로 형변환한안됨\n",
    "a = \"12.3\"; print(int(a))"
   ]
  },
  {
   "cell_type": "code",
   "execution_count": 50,
   "id": "29c50cde",
   "metadata": {},
   "outputs": [
    {
     "name": "stdout",
     "output_type": "stream",
     "text": [
      "12.3\n",
      "14.1\n",
      "14\n"
     ]
    }
   ],
   "source": [
    "#실수형으로 형변환\n",
    "a = \"12.3\"; print(float(a))\n",
    "#1 + 1.1 +12 출력\n",
    "a = 1.1; print(1+a+12)\n",
    "#a를 int로 형변환 .1 사라져서 14출력\n",
    "print(1+int(a)+12)"
   ]
  },
  {
   "cell_type": "code",
   "execution_count": 53,
   "id": "774567aa",
   "metadata": {},
   "outputs": [
    {
     "name": "stdout",
     "output_type": "stream",
     "text": [
      "3\n",
      "3\n",
      "3.1\n",
      "120000\n"
     ]
    }
   ],
   "source": [
    "#int로 형변환 .14 버림\n",
    "print(int(3.14))\n",
    "#round()반올림,3.14,1 맨뒤에 있는 숫자로 소수점자리 출력\n",
    "print(round(3.14)); print(round(3.14,1))\n",
    "#-4이므로 천의자리에서 반올림\n",
    "print(round(123456,-4))"
   ]
  },
  {
   "cell_type": "code",
   "execution_count": 54,
   "id": "d5261da3",
   "metadata": {},
   "outputs": [
    {
     "name": "stdout",
     "output_type": "stream",
     "text": [
      "1235000\n"
     ]
    }
   ],
   "source": [
    "#a에 1234567 초기화\n",
    "a = 1234567\n",
    "#만약 a가 1000으로 나누어서 나머지가 0이 아니라면\n",
    "if (a % 1000 != 0) : \n",
    "    # a를 1000으로 나눠서 다시 곱해주면 천의자리가\n",
    "    #다 사라지고 거기다 1000을 더하면 올림 처리\n",
    "    a = int(a/1000) * 1000 + 1000\n",
    "    # +1000을 안하면 내림처리\n",
    "else :\n",
    "    a = int(a/1000) * 1000\n",
    "print(a)"
   ]
  },
  {
   "cell_type": "code",
   "execution_count": null,
   "id": "02b5b3f9",
   "metadata": {},
   "outputs": [],
   "source": []
  }
 ],
 "metadata": {
  "kernelspec": {
   "display_name": "Python 3 (ipykernel)",
   "language": "python",
   "name": "python3"
  },
  "language_info": {
   "codemirror_mode": {
    "name": "ipython",
    "version": 3
   },
   "file_extension": ".py",
   "mimetype": "text/x-python",
   "name": "python",
   "nbconvert_exporter": "python",
   "pygments_lexer": "ipython3",
   "version": "3.8.8rc1"
  }
 },
 "nbformat": 4,
 "nbformat_minor": 5
}
