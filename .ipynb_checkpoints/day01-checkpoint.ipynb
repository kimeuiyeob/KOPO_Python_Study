{
 "cells": [
  {
   "cell_type": "code",
   "execution_count": 12,
   "id": "b9434dba",
   "metadata": {},
   "outputs": [
    {
     "name": "stdout",
     "output_type": "stream",
     "text": [
      "반가워 파이썬아 난 의엽이라구 해\n"
     ]
    }
   ],
   "source": [
    "a = \"반가워 파이썬아 난 의엽이라구 해\"\n",
    "print(a)"
   ]
  },
  {
   "cell_type": "code",
   "execution_count": 13,
   "id": "324ae365",
   "metadata": {},
   "outputs": [
    {
     "name": "stdout",
     "output_type": "stream",
     "text": [
      "안녕 내 나이는 31 살이야\n"
     ]
    }
   ],
   "source": [
    "a = \"안녕\"\n",
    "b = \"내 나이는\"\n",
    "c = 31\n",
    "d = \"살이야\"\n",
    "print(a, b, c, d)"
   ]
  },
  {
   "cell_type": "code",
   "execution_count": 19,
   "id": "4c3be075",
   "metadata": {},
   "outputs": [
    {
     "name": "stdout",
     "output_type": "stream",
     "text": [
      "김의엽\n",
      "파이썬\n",
      "어려워~\n"
     ]
    }
   ],
   "source": [
    "names =[\"김의엽\",\"파이썬\",\"어려워~\"]\n",
    "print(names[0])\n",
    "print(names[1])\n",
    "print(names[2])"
   ]
  },
  {
   "cell_type": "code",
   "execution_count": 20,
   "id": "7235cab8",
   "metadata": {},
   "outputs": [
    {
     "name": "stdout",
     "output_type": "stream",
     "text": [
      "계산을 도와주지 나는 계산기라구!!\n",
      "첫번째 숫자를 입력하라구 : 3\n",
      "두번째 숫자를 입력하라구 : 5\n",
      "너가 입력한 값은 :  3 5\n"
     ]
    }
   ],
   "source": [
    "print(\"계산을 도와주지 나는 계산기라구!!\")\n",
    "a = int(input(\"첫번째 숫자를 입력하라구 : \"))\n",
    "b = int(input(\"두번째 숫자를 입력하라구 : \"))\n",
    "print(\"너가 입력한 값은 : \",a, b)"
   ]
  },
  {
   "cell_type": "code",
   "execution_count": 21,
   "id": "6040aabd",
   "metadata": {},
   "outputs": [
    {
     "name": "stdout",
     "output_type": "stream",
     "text": [
      "계산을 도와주지 나는 계산기라구!!\n",
      "첫번째 숫자를 입력하라구 : 3\n",
      "두번째 숫자를 입력하라구 : 5\n",
      "너가 입력한 값은 :  3 5\n",
      "이제 연산자를 입력해봐~~\n",
      "+,-,*,/ 여기서 골라야되!+\n",
      "너가 고른 연산자는 :  +\n"
     ]
    }
   ],
   "source": [
    "print(\"계산을 도와주지 나는 계산기라구!!\")\n",
    "a = int(input(\"첫번째 숫자를 입력하라구 : \"))\n",
    "b = int(input(\"두번째 숫자를 입력하라구 : \"))\n",
    "print(\"너가 입력한 값은 : \",a, b)\n",
    "print(\"이제 연산자를 입력해봐~~\")\n",
    "c = input(\"+,-,*,/ 여기서 골라야되!\")\n",
    "print(\"너가 고른 연산자는 : \",c)"
   ]
  },
  {
   "cell_type": "code",
   "execution_count": null,
   "id": "ed20630d",
   "metadata": {},
   "outputs": [],
   "source": [
    "print(\"계산을 도와주지 나는 계산기라구!!\")\n",
    "a = int(input(\"첫번째 숫자를 입력하라구 : \"))\n",
    "b = int(input(\"두번째 숫자를 입력하라구 : \"))\n",
    "print(\"너가 입력한 값은 : \",a, b)\n",
    "print(\"이제 연산자를 입력해봐~~\")\n",
    "c = input(\"+,-,*,/ 여기서 골라야되!\")\n",
    "print(\"너가 고른 연산자는 : \",c)\n",
    "if c == + :\n",
    "    d = a+b\n",
    "    print(\"덧셈의 결과는 : \",d)\n",
    "elif c == - :\n",
    "    d = a-b\n",
    "    print(\"뺄셈의 결과는 : \",d)\n",
    "elif c == * :\n",
    "    d = a*b\n",
    "    print(\"곱셈의 결과는 : \",d)\n",
    "elif c == / :\n",
    "    d = a/b\n",
    "    print(\"나눗셈의 결과는 : \",d)\n",
    "print(\"고맙지?\")"
   ]
  }
 ],
 "metadata": {
  "kernelspec": {
   "display_name": "Python 3 (ipykernel)",
   "language": "python",
   "name": "python3"
  },
  "language_info": {
   "codemirror_mode": {
    "name": "ipython",
    "version": 3
   },
   "file_extension": ".py",
   "mimetype": "text/x-python",
   "name": "python",
   "nbconvert_exporter": "python",
   "pygments_lexer": "ipython3",
   "version": "3.8.8rc1"
  }
 },
 "nbformat": 4,
 "nbformat_minor": 5
}
