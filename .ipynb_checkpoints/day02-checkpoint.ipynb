{
 "cells": [
  {
   "cell_type": "code",
   "execution_count": 6,
   "id": "369cb24a",
   "metadata": {},
   "outputs": [
    {
     "name": "stdout",
     "output_type": "stream",
     "text": [
      "국어 점수, 영어점수, 수학점수를 순서대로 입력하세요.\n",
      "국어 : 65\n",
      "영어 : 75\n",
      "수학 : 86\n",
      "총 합계 점수는 226\n",
      "평균 점수는 75.33333333333333\n"
     ]
    }
   ],
   "source": [
    "print(\"국어 점수, 영어점수, 수학점수를 순서대로 입력하세요.\") \n",
    "korScore = float(input(\"국어 : \"))  //실수형으로 국어,영어,수학점수를 입력받는다.\n",
    "engScore = float(input(\"영어 : \")) \n",
    "mathScore = float(input(\"수학 : \")) \n",
    "sumSore = int(korScore + engScore + mathScore) //3개의 과목의 합계를 sumSore에 담는다.\n",
    "print(\"총 합계 점수는\",sumSore) \n",
    "avgScore = sumSore / 3.0 //sumSore에서 3으로 나눈값을 avgScore에 담는다.\n",
    "print(\"평균 점수는\",avgScore) "
   ]
  },
  {
   "cell_type": "code",
   "execution_count": 20,
   "id": "02ce8bda",
   "metadata": {},
   "outputs": [
    {
     "ename": "SyntaxError",
     "evalue": "invalid syntax (3379718689.py, line 2)",
     "output_type": "error",
     "traceback": [
      "\u001b[1;36m  Cell \u001b[1;32mIn[20], line 2\u001b[1;36m\u001b[0m\n\u001b[1;33m    score = int(input(\"점수 입력 : \")) //정수로 점수를 입력받아서 score에 담는다.\u001b[0m\n\u001b[1;37m                                         ^\u001b[0m\n\u001b[1;31mSyntaxError\u001b[0m\u001b[1;31m:\u001b[0m invalid syntax\n"
     ]
    }
   ],
   "source": [
    "print(\"점수를 입력해주세요~~\")\n",
    "score = int(input(\"점수 입력 : \")) //정수로 점수를 입력받아서 score에 담는다.\n",
    "if score > 90 : //만약 score가 90보다 크다면\n",
    "    print(\"학점은 A 입니다.\") //출력\n",
    "elif score > 80 : //아니면 score가 80보다 크다면\n",
    "    print(\"학점은 B 입니다.\") //출력\n",
    "elif score > 70 :\n",
    "    print(\"학점은 C 입니다.\")\n",
    "elif score > 60 :\n",
    "    print(\"학점은 D 입니다.\")\n",
    "else :\n",
    "    print(\"학점은 E 입니다.\")"
   ]
  },
  {
   "cell_type": "code",
   "execution_count": 22,
   "id": "c05bcd0d",
   "metadata": {},
   "outputs": [
    {
     "name": "stdout",
     "output_type": "stream",
     "text": [
      "해당 반의 학생은 총 몇명이나요?\n",
      "총점을 구해다드릴께요\n",
      "반 학생 전부 몇명? : 4\n",
      "0 번째 학생의 점수를 입력해주세요.\n",
      "점수 : 40\n",
      "1 번째 학생의 점수를 입력해주세요.\n",
      "점수 : 50\n",
      "2 번째 학생의 점수를 입력해주세요.\n",
      "점수 : 60\n",
      "3 번째 학생의 점수를 입력해주세요.\n",
      "점수 : 70\n",
      "반학생의 총점은  220\n"
     ]
    }
   ],
   "source": [
    "print(\"해당 반의 학생은 총 몇명이나요?\")\n",
    "print(\"총점을 구해다드릴께요\")\n",
    "allStudent = int(input(\"반 학생 전부 몇명? : \"))\n",
    "totalScore = 0;\n",
    "i = 0;\n",
    "while True :\n",
    "    print(i,\"번째 학생의 점수를 입력해주세요.\")\n",
    "    oneStudenScore = int(input(\"점수 : \"))\n",
    "    totalScore += oneStudenScore\n",
    "    i += 1\n",
    "    if allStudent == i :\n",
    "        break\n",
    "        \n",
    "print(\"반학생의 총점은 \",totalScore)"
   ]
  },
  {
   "cell_type": "code",
   "execution_count": 1,
   "id": "66f7529e",
   "metadata": {},
   "outputs": [
    {
     "name": "stdout",
     "output_type": "stream",
     "text": [
      "3\n",
      "3\n"
     ]
    }
   ],
   "source": [
    "a = 1\n",
    "b = 2\n",
    "a + b //출력되지 않는다.\n",
    "print(a + b)\n",
    "1 + 2 //출력되지 않는다.\n",
    "print(1 + 2)"
   ]
  },
  {
   "cell_type": "code",
   "execution_count": 3,
   "id": "8e57f084",
   "metadata": {},
   "outputs": [
    {
     "name": "stdout",
     "output_type": "stream",
     "text": [
      "아침 점심 저녁\n",
      "아침먹고 점심먹고 저녁\n",
      "아침먹고 점심먹고 저녁땡"
     ]
    }
   ],
   "source": [
    "a = \"아침\"\n",
    "b = \"점심\"\n",
    "c = \"저녁\"\n",
    "print(a,b,c)\n",
    "print(a,b,c, sep =\"먹고 \") \n",
    "print(a,b,c, sep =\"먹고 \" , end = \"땡\") "
   ]
  },
  {
   "cell_type": "code",
   "execution_count": 4,
   "id": "02288d19",
   "metadata": {},
   "outputs": [
    {
     "name": "stdout",
     "output_type": "stream",
     "text": [
      "아침 점심 저녁\n",
      "아침먹고 점심먹고 저녁\n",
      "아침먹고 점심먹고 저녁아침먹고 점심먹고 저녁아침먹고 점심먹고 저녁\n",
      "아침자고 점심자고 저녁\n"
     ]
    }
   ],
   "source": [
    "a = \"아침\"\n",
    "b = \"점심\"\n",
    "c = \"저녁\"\n",
    "print(a,b,c)\n",
    "print(a,b,c, sep =\"먹고 \") //아침 점심 저녁\n",
    "print(a,b,c, sep =\"먹고 \" , end = \"\") //아침먹고 점심먹고 저녁아침먹고 점심먹고 저녁아침먹고 점심먹고 저녁\n",
    "print(a,b,c, sep =\"먹고 \" , end = \"\") \n",
    "print(a,b,c, sep =\"먹고 \" , end = \"\\n\") //줄바꿈\n",
    "print(a,b,c, sep =\"자고 \" , end = \"\\n\") //먹고 점심먹고 저녁아침먹고 점심먹고 저녁"
   ]
  },
  {
   "cell_type": "code",
   "execution_count": 5,
   "id": "e0b3d84a",
   "metadata": {},
   "outputs": [
    {
     "name": "stdout",
     "output_type": "stream",
     "text": [
      "22+33=55\n"
     ]
    }
   ],
   "source": [
    "a = 22\n",
    "b = 33\n",
    "print(a,b, sep=\"+\", end = \"=\") //,기준으로 +를 대입하고 마지막에 =를 대입한다.\n",
    "print(a+b) //더한값을 출력한다."
   ]
  },
  {
   "cell_type": "code",
   "execution_count": 6,
   "id": "e0cdee3c",
   "metadata": {},
   "outputs": [
    {
     "name": "stdout",
     "output_type": "stream",
     "text": [
      "너의 이름은 머니?김의엽\n",
      "제 이름은  김의엽  입니다.\n",
      "너는 몇 살이니?31\n",
      "제 나이는  31  살입니다.\n"
     ]
    }
   ],
   "source": [
    "a = input(\"너의 이름은 머니?\") //a에다 문자열을 입력받는다.\n",
    "print(\"제 이름은 \",a,\" 입니다.\") //출력\n",
    "b = input(\"너는 몇 살이니?\") //b다 문자열을 입력받는다.\n",
    "print(\"제 나이는 \",b,\" 살입니다.\")"
   ]
  },
  {
   "cell_type": "code",
   "execution_count": 11,
   "id": "f18f0fd8",
   "metadata": {},
   "outputs": [
    {
     "name": "stdout",
     "output_type": "stream",
     "text": [
      "a 값을 입력하셔~4\n",
      "b 값을 입력하셔~~5\n",
      "4+5=45\n",
      "수치 계산 : 4+5=9\n"
     ]
    }
   ],
   "source": [
    "a = input(\"a 값을 입력하셔~\") //문자열 입력받는다.\n",
    "b = input(\"b 값을 입력하셔~~\")\n",
    "print(a,b,sep=\"+\", end = \"=\") //ab사이 ,를 +로 대입하고 마지막에 = 넣는다.\n",
    "print(a+b) //이때는 문자열 계산으로 45\n",
    "print(\"수치 계산\",end = \" : \")\n",
    "print(a,b, sep = \"+\", end = \"=\" )\n",
    "print(int(a)+int(b)) //이때는 int()정수형으로 바까줘서 9"
   ]
  },
  {
   "cell_type": "code",
   "execution_count": 13,
   "id": "51fd293d",
   "metadata": {},
   "outputs": [
    {
     "name": "stdout",
     "output_type": "stream",
     "text": [
      "품목 : 의엽\n",
      "수량 : 5\n",
      "단가 : 300\n",
      "의엽  :  5 개 *  300 원 = 총 1500 원\n"
     ]
    }
   ],
   "source": [
    "a = input(\"품목 : \") //문자열 입력\n",
    "b = int(input(\"수량 : \")) //수량 정수형으로 입력\n",
    "c = int(input(\"단가 : \")) //단가 정수형으로 입력\n",
    "print(a,\" : \",b,\"개 * \",c,\"원 = 총\",b*c,\"원\") //출력 "
   ]
  },
  {
   "cell_type": "code",
   "execution_count": 14,
   "id": "a39423f3",
   "metadata": {},
   "outputs": [
    {
     "name": "stdout",
     "output_type": "stream",
     "text": [
      "1\n",
      "2\n",
      "3\n",
      "2\n"
     ]
    }
   ],
   "source": [
    "a = 1 //a에다 1 대입\n",
    "print(a) //1출력\n",
    "a = 2\n",
    "print(a) //위에서 2로 값을 바까줘서 2출력\n",
    "b = 3 //b에다 3 대입\n",
    "print(b)\n",
    "print(a)"
   ]
  },
  {
   "cell_type": "code",
   "execution_count": 16,
   "id": "21ffeadb",
   "metadata": {},
   "outputs": [
    {
     "name": "stdout",
     "output_type": "stream",
     "text": [
      "1122\n",
      "hello\n"
     ]
    },
    {
     "data": {
      "text/plain": [
       "int"
      ]
     },
     "execution_count": 16,
     "metadata": {},
     "output_type": "execute_result"
    }
   ],
   "source": [
    "a = 1122; print(a); type(a) //type()변수형태 알려준다.\n",
    "b = \"hello\"; print(b); type(b)\n",
    "b = 12\n",
    "type(b)"
   ]
  },
  {
   "cell_type": "code",
   "execution_count": 17,
   "id": "19c33a9d",
   "metadata": {},
   "outputs": [
    {
     "name": "stdout",
     "output_type": "stream",
     "text": [
      "1122\n",
      "11\n"
     ]
    },
    {
     "ename": "NameError",
     "evalue": "name 'a' is not defined",
     "output_type": "error",
     "traceback": [
      "\u001b[1;31m---------------------------------------------------------------------------\u001b[0m",
      "\u001b[1;31mNameError\u001b[0m                                 Traceback (most recent call last)",
      "Cell \u001b[1;32mIn[17], line 4\u001b[0m\n\u001b[0;32m      2\u001b[0m a \u001b[38;5;241m=\u001b[39m \u001b[38;5;241m11\u001b[39m; \u001b[38;5;28mprint\u001b[39m(a)\n\u001b[0;32m      3\u001b[0m \u001b[38;5;28;01mdel\u001b[39;00m a\n\u001b[1;32m----> 4\u001b[0m \u001b[38;5;28mprint\u001b[39m(\u001b[43ma\u001b[49m)\n",
      "\u001b[1;31mNameError\u001b[0m: name 'a' is not defined"
     ]
    }
   ],
   "source": [
    "a = 1122; print(a); type(a) //1122출력\n",
    "a = 11; print(a) //다시 11을 대입해서 11출력\n",
    "del a //a를 지운다\n",
    "print(a) //a를 못찾는다"
   ]
  },
  {
   "cell_type": "code",
   "execution_count": null,
   "id": "d0c88939",
   "metadata": {},
   "outputs": [],
   "source": []
  }
 ],
 "metadata": {
  "kernelspec": {
   "display_name": "Python 3 (ipykernel)",
   "language": "python",
   "name": "python3"
  },
  "language_info": {
   "codemirror_mode": {
    "name": "ipython",
    "version": 3
   },
   "file_extension": ".py",
   "mimetype": "text/x-python",
   "name": "python",
   "nbconvert_exporter": "python",
   "pygments_lexer": "ipython3",
   "version": "3.8.8rc1"
  }
 },
 "nbformat": 4,
 "nbformat_minor": 5
}
