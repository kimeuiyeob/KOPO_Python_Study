{
 "cells": [
  {
   "cell_type": "code",
   "execution_count": 4,
   "id": "cdaf4f74",
   "metadata": {},
   "outputs": [
    {
     "name": "stdout",
     "output_type": "stream",
     "text": [
      "95\n",
      "홍길동\n"
     ]
    }
   ],
   "source": [
    "#딕셔너리 => 키와 밸류 방식으로 저장\n",
    "a={\"이름\":\"홍길동\", \"국어\":100, \"영어\":88, \"수학\": 95}\n",
    "#키값을 찾으면 밸류값을 리턴한다.\n",
    "print(a[\"수학\"])\n",
    "print(a[\"이름\"])"
   ]
  },
  {
   "cell_type": "code",
   "execution_count": 5,
   "id": "6abb078a",
   "metadata": {},
   "outputs": [
    {
     "name": "stdout",
     "output_type": "stream",
     "text": [
      "dict_keys(['이름', '국어', '영어', '수학'])\n",
      "dict_values(['홍길동', 100, 88, 95])\n",
      "dict_items([('이름', '홍길동'), ('국어', 100), ('영어', 88), ('수학', 95)])\n"
     ]
    }
   ],
   "source": [
    "#a딕셔너리의 키값을 리턴\n",
    "print(a.keys())\n",
    "#a딕셔너리의 밸류값을 리턴\n",
    "print(a.values())\n",
    "#a딕셔너리의 키와 밸류값 리턴\n",
    "print(a.items())"
   ]
  },
  {
   "cell_type": "code",
   "execution_count": 8,
   "id": "c2533424",
   "metadata": {},
   "outputs": [
    {
     "name": "stdout",
     "output_type": "stream",
     "text": [
      "('이름', '홍길동'),('국어', 100),('영어', 88),('수학', 95),이름,국어,영어,수학,홍길동,100,88,95,"
     ]
    }
   ],
   "source": [
    "#a에 키밸류값을 담는다.\n",
    "a={\"이름\":\"홍길동\", \"국어\":100, \"영어\":88, \"수학\": 95}\n",
    "#반복문을 통해 키와 밸류 출력\n",
    "for i in a.items():\n",
    "    print (i,end=\",\")\n",
    "#반복문을 통해 키값 출력\n",
    "for i in a.keys():\n",
    "    print (i,end=\",\")\n",
    "#반복문을 통해 밸루값 출력\n",
    "for i in a.values():\n",
    "    print (i,end=\",\")"
   ]
  },
  {
   "cell_type": "code",
   "execution_count": 9,
   "id": "5f459a53",
   "metadata": {},
   "outputs": [
    {
     "name": "stdout",
     "output_type": "stream",
     "text": [
      "None\n",
      "없는과목입니다\n",
      "95\n"
     ]
    }
   ],
   "source": [
    "a={\"이름\":\"홍길동\", \"국어\":100, \"영어\":88, \"수학\": 95}\n",
    "#get은 키값을 찾아 없으면 none을 리턴한다.\n",
    "print(a.get(\"과학\"))\n",
    "#없으면 출력문도 지정할수있다.\n",
    "print(a.get(\"과학\",\"없는과목입니다\"))\n",
    "#키값이 있으면 해당 밸류값 리턴\n",
    "print(a.get(\"수학\",\"없는과목입니다\"))"
   ]
  },
  {
   "cell_type": "code",
   "execution_count": 13,
   "id": "a7f24e8a",
   "metadata": {},
   "outputs": [
    {
     "name": "stdout",
     "output_type": "stream",
     "text": [
      "{'안': 1, '녕': 1, '하': 1, '셔': 1, '요': 3, '.': 2, ' ': 11, '오': 1, '늘': 1, '은': 2, '날': 1, '씨': 1, '가': 2, '매': 2, '우': 2, '화': 1, '창': 1, '합': 1, '니': 1, '다': 1, '\\n': 2, '그': 1, '래': 1, '서': 1, '기': 2, '분': 2, '이': 2, '좋': 2, '네': 1, '너': 1, '도': 1, '랄': 3, '라': 7, 'a': 1, 'b': 1, 'c': 1, '임': 1, '마': 1}\n"
     ]
    }
   ],
   "source": [
    "#\"\"\"확장형 문자열\n",
    "text=\"\"\"안녕하셔요. 오늘은 날씨가 매우 화창합니다.\n",
    "그래서 기분이 매우 좋네요\n",
    "너도 기분이 좋은가요 랄라랄랄라라라라라라 abc임마\"\"\"\n",
    "\n",
    "a=dict() #하나의 딕셔너리 자료형을 정의\n",
    "for c in text: #위에 정의한 텍스트를 하나씩 추출하여 처리\n",
    "    if c not in a: #해당 추출글자가 지금까지의 딕셔너리에 없다면\n",
    "        a[c]=1 #그때는 최초 1값으로 시작\n",
    "    else: #이 경우는 해당 추출글자의 딕셔너리가 있다\n",
    "        a[c] +=1 #그럼 해당 딕셔너리 키에 해당되는 값을 하나더함\n",
    "print(a)"
   ]
  },
  {
   "cell_type": "code",
   "execution_count": 14,
   "id": "25f6a3ae",
   "metadata": {},
   "outputs": [
    {
     "name": "stdout",
     "output_type": "stream",
     "text": [
      "{'\\n': 2, ' ': 11, '.': 2, 'a': 1, 'b': 1, 'c': 1, '가': 2, '그': 1, '기': 2, '날': 1, '너': 1, '네': 1, '녕': 1, '늘': 1, '니': 1, '다': 1, '도': 1, '라': 7, '랄': 3, '래': 1, '마': 1, '매': 2, '분': 2, '서': 1, '셔': 1, '씨': 1, '안': 1, '오': 1, '요': 3, '우': 2, '은': 2, '이': 2, '임': 1, '좋': 2, '창': 1, '하': 1, '합': 1, '화': 1}\n"
     ]
    }
   ],
   "source": [
    "b=dict() #딕셔너리 하나 더 정의\n",
    "l=list(a.keys()) #앞에 딕서너리에 키만 뽑아 리스트를 만듦\n",
    "l.sort() #해당 리스트 소트\n",
    "for c in l: #각 리스트에 대하여 (결국 키값) 하나씩 뽑음\n",
    "    b[c]=a[c] # 새로운 딕셔너리는 키값 순서데로 다시 만듦\n",
    "print(b)"
   ]
  },
  {
   "cell_type": "code",
   "execution_count": 16,
   "id": "125cb5a7",
   "metadata": {},
   "outputs": [
    {
     "name": "stdout",
     "output_type": "stream",
     "text": [
      "{1, 2, 3, 4, 5}\n",
      "{1, 2, 'a'}\n",
      "{'a'}\n",
      "{'이름', '국어', '영어', '수학'}\n"
     ]
    }
   ],
   "source": [
    "#집합 중복이 제거된다. {}\n",
    "a={1,2,2,2,2,3,3,3,4,5}\n",
    "#중복이 제거된걸 볼수있다.\n",
    "print(a)\n",
    "#set()함수를 통해 집합으로 변환한다.\n",
    "print(set((\"a\",1,2)))\n",
    "print(set(\"a\"))\n",
    "print(set({\"이름\":\"홍길동\", \"국어\":100,\n",
    "\"영어\":88, \"수학\": 95}))"
   ]
  },
  {
   "cell_type": "code",
   "execution_count": 17,
   "id": "70589fd4",
   "metadata": {},
   "outputs": [
    {
     "name": "stdout",
     "output_type": "stream",
     "text": [
      "{1, 2, 3, 4, 5}\n",
      "{0, 1, 2, 3, 4, 5}\n",
      "{0, 1, 2, 3, 4, 5, 2.4}\n",
      "{0, 1, 2, 4, 5, 2.4}\n"
     ]
    }
   ],
   "source": [
    "#add(값) 원소 추가 시 사용함\n",
    "#remove(값) 원소 제거 시 사용함\n",
    "a={1,2,3,4,5}\n",
    "print(a)\n",
    "#0 추가\n",
    "a.add(0)\n",
    "print(a)\n",
    "a.add(2.4)\n",
    "print(a)\n",
    "#3 제거\n",
    "a.remove(3)\n",
    "print(a)"
   ]
  },
  {
   "cell_type": "code",
   "execution_count": 18,
   "id": "82c22aeb",
   "metadata": {},
   "outputs": [
    {
     "name": "stdout",
     "output_type": "stream",
     "text": [
      "{1, 2, 3, 4, 5, 6, 7, 8, 9, 10}\n",
      "{7}\n",
      "{1, 2, 3, 4, 5, 6}\n"
     ]
    }
   ],
   "source": [
    "#집합연산의 합집합(|), 교집합(&), 차집합(-), 배타적 차집합(^)\n",
    "A={1,2,3,4,5,6,7}\n",
    "B={7,8,9,10}\n",
    "#합집합 되서 7이 1개가된다.\n",
    "print(A|B)\n",
    "#교집합이라 7만 출력\n",
    "print(A&B)\n",
    "#차집합 \n",
    "print(A-B)"
   ]
  },
  {
   "cell_type": "code",
   "execution_count": 31,
   "id": "cc8969b9",
   "metadata": {},
   "outputs": [
    {
     "name": "stdout",
     "output_type": "stream",
     "text": [
      "False\n",
      "True\n",
      "True\n",
      "False\n",
      "True\n",
      "True\n"
     ]
    }
   ],
   "source": [
    "#비교 가능하다.\n",
    "print({1,2,3} < {1,2})\n",
    "print({1,2,3} > {1,2})\n",
    "print({1,2,3} >= {1,2})\n",
    "print({1,2,3} == {1,2})\n",
    "print({1,2,3} == {3,1,2})\n",
    "print({1,2,3} == {3,1,2})"
   ]
  },
  {
   "cell_type": "code",
   "execution_count": 33,
   "id": "64ef0977",
   "metadata": {},
   "outputs": [
    {
     "name": "stdout",
     "output_type": "stream",
     "text": [
      "{0: 'a', 1: 'b', 2: 'c', 3: 'd', 4: 'e'}\n"
     ]
    }
   ],
   "source": [
    "a=[\"a\",\"b\",\"c\",\"d\",\"e\"]\n",
    "b={}\n",
    "#a의 갯수로 반복을통해 a값을 b에 담는다.\n",
    "for i in range (len(a)):\n",
    "    b[i]=a[i] #a는 리스트 b는 딕셔너리\n",
    "print(b)"
   ]
  },
  {
   "cell_type": "code",
   "execution_count": 36,
   "id": "0cf3d339",
   "metadata": {},
   "outputs": [
    {
     "name": "stdout",
     "output_type": "stream",
     "text": [
      "<enumerate object at 0x000002417BDE86C0>\n",
      "['a', 'b', 'c', 'd', 'e']\n",
      "{0: 'a', 1: 'b', 2: 'c', 3: 'd', 4: 'e'}\n",
      "[(0, 'a'), (1, 'b'), (2, 'c'), (3, 'd'), (4, 'e')]\n"
     ]
    }
   ],
   "source": [
    "#enumerate() 함수는 요소를 0부터 차례의 숫자로 대입해 준다\n",
    "a=[\"a\",\"b\",\"c\",\"d\",\"e\"]\n",
    "b=enumerate(a) #여기 까지는 중간단계\n",
    "print(b)\n",
    "#enumerate()함수로 차례로 숫자들어간 값을 딕셔너리 b에 담고 출력\n",
    "b=dict(enumerate(a))\n",
    "c=list(enumerate(a)) #딕셔너리와 리스트를 만든다>>>\n",
    "print(b)\n",
    "print(c)"
   ]
  },
  {
   "cell_type": "code",
   "execution_count": 37,
   "id": "38f5f8cb",
   "metadata": {},
   "outputs": [
    {
     "name": "stdout",
     "output_type": "stream",
     "text": [
      "{1: 'a', 2: 'b', 3: 'd', 4: 'c', 5: 'e'}\n",
      "[(1, 'a'), (2, 'b'), (3, 'd'), (4, 'c'), (5, 'e')]\n",
      "{1: 'a', 2: 'b', 3: 'c', 4: 'd', 5: 'e'}\n",
      "[(1, 'a'), (2, 'b'), (3, 'c'), (4, 'd'), (5, 'e')]\n"
     ]
    }
   ],
   "source": [
    "#zip은 두 컬렉션을 하나씩 대응관계를 만들어 준다.\n",
    "a={1,2,3,4,5,6,7,8} \n",
    "b={\"a\",\"b\",\"c\",\"d\",\"e\"}\n",
    "zip(a,b) #zip만으로는 단순히 object임\n",
    "#대응관계를 만들어줘 6부터 관계가 없어 사라진다.\n",
    "#딕셔너리에 담고 출력\n",
    "c=dict(zip(a,b))\n",
    "#리스트에 담고 출력\n",
    "d=list(zip(a,b))\n",
    "print(c)\n",
    "print(d)\n",
    "#튜플 a 생성 및 값 담는다.\n",
    "a=(1,2,3,4,5,6,7,8) \n",
    "#리스트 a 생성 및 값 담는다.\n",
    "b=[\"a\",\"b\",\"c\",\"d\",\"e\"]\n",
    "c=dict(zip(a,b))\n",
    "d=list(zip(a,b))\n",
    "print(c)\n",
    "print(d)"
   ]
  },
  {
   "cell_type": "code",
   "execution_count": 44,
   "id": "b3e3e57a",
   "metadata": {},
   "outputs": [
    {
     "name": "stdout",
     "output_type": "stream",
     "text": [
      "1\n",
      "2\n",
      "3\n",
      "4\n",
      "5\n",
      "6\n"
     ]
    }
   ],
   "source": [
    "#filter 인자 컬렉션의 값을 하나씩 대응하여 함수를 실행한다.\n",
    "#함수 func생성해서 인자 받으면 나누기2값을 리턴\n",
    "def func(x):\n",
    "    return x/2\n",
    "\n",
    "#튜플 생성 및 값담는다.\n",
    "x=(1,2,3,4,5,6)\n",
    "\n",
    "#반복을 통해 fileter(함수명,인자 컬렉션)\n",
    "for i in filter(func,x):\n",
    "    print(i)"
   ]
  },
  {
   "cell_type": "code",
   "execution_count": 45,
   "id": "ecbda33e",
   "metadata": {},
   "outputs": [
    {
     "name": "stdout",
     "output_type": "stream",
     "text": [
      "8\n",
      "10\n",
      "12\n",
      "14\n",
      "16\n",
      "18\n"
     ]
    }
   ],
   "source": [
    "#인자를 여러 개를 전달할 경우 map함수를 사용한다\n",
    "def func(x,y):\n",
    "    #x와y값을 더해 리턴\n",
    "    return x+y\n",
    "\n",
    "x=(1,2,3,4,5,6)\n",
    "y=(7,8,9,10,11,12)\n",
    "\n",
    "#filter로 인자를 여러개 전달하면 에러\n",
    "for i in map(func,x,y):\n",
    "    print(i)"
   ]
  },
  {
   "cell_type": "code",
   "execution_count": 47,
   "id": "5f951751",
   "metadata": {},
   "outputs": [
    {
     "name": "stdout",
     "output_type": "stream",
     "text": [
      "8\n",
      "10\n",
      "12\n",
      "14\n",
      "16\n",
      "18\n"
     ]
    }
   ],
   "source": [
    "#lambda는 전달한 함수가 간단한 경우 한 줄 안에 기입가능하다.\n",
    "x=(1,2,3,4,5,6)\n",
    "y=(7,8,9,10,11,12)\n",
    "#lambda를 통해 x+y값을 출력한다.\n",
    "for i in map(lambda x,y : x+y, x,y):\n",
    "    print(i)"
   ]
  },
  {
   "cell_type": "code",
   "execution_count": 49,
   "id": "802b6ec2",
   "metadata": {},
   "outputs": [
    {
     "name": "stdout",
     "output_type": "stream",
     "text": [
      "[1, 2, 5]\n",
      "[1, 2, 5]\n",
      "[1, 3, 5]\n",
      "[1, 3, 5]\n"
     ]
    }
   ],
   "source": [
    "#컬렉션을 대입하면 컬렉션의 값이 복사되는 것이 아니라 주소가 복사된다.\n",
    "#그래서 b인덱스2에 5을 대입해도 주소가 같아져 a도 값이 추가된다.\n",
    "a=[1,2,3]\n",
    "b=a\n",
    "b[2]=5\n",
    "print(a)\n",
    "print(b)\n",
    "b[1]=3\n",
    "print(a)\n",
    "print(b)"
   ]
  },
  {
   "cell_type": "code",
   "execution_count": 53,
   "id": "dff7cc86",
   "metadata": {},
   "outputs": [
    {
     "name": "stdout",
     "output_type": "stream",
     "text": [
      "[1, 2, 3]\n",
      "[1, 2, 5]\n",
      "\n",
      "[1, 2, 3]\n",
      "[1, 2, 5]\n"
     ]
    }
   ],
   "source": [
    "# b=a[:]또는 b=a.copy()를 사용(옅은 복사)\n",
    "# 이렇게 복사하게 되면 값을 변경해도 원 컬렉션은 변경이 안된다.\n",
    "a=[1,2,3]\n",
    "#a리스트 값을 b로 복사\n",
    "b=a[:]\n",
    "#b인덱스 2번째에 5값을 담는다.\n",
    "b[2]=5\n",
    "print(a)\n",
    "print(b)\n",
    "print()\n",
    "a=[1,2,3]\n",
    "#a리스트 값을 b로 복사\n",
    "b=a.copy()\n",
    "b[2]=5\n",
    "print(a);print(b)"
   ]
  },
  {
   "cell_type": "code",
   "execution_count": 54,
   "id": "2c34a2cb",
   "metadata": {},
   "outputs": [
    {
     "name": "stdout",
     "output_type": "stream",
     "text": [
      "[[1, 2], 3, 4]\n",
      "[[1, 3], 3, 4]\n",
      "[[1, 3], 3, 4]\n",
      "[[1, 2], 3, 4]\n",
      "[[1, 3], 3, 4]\n"
     ]
    }
   ],
   "source": [
    "a=[[1,2],3,4]\n",
    "#a리스트를 복사해서 b에 담는다.\n",
    "b=a.copy()\n",
    "print(b)\n",
    "#b이중 리스트라 0번째 리스트의 1번째 값을 3으로 변경\n",
    "b[0][1]=3\n",
    "print(b)\n",
    "#.copy()로 복사했기때문에 a값은 변경되지 않는다.\n",
    "print(a)\n",
    "a=[[1,2],3,4]\n",
    "#a.copy() 같은 의미이다.\n",
    "b=a[:]\n",
    "print(b)\n",
    "b[0][1]=3\n",
    "print(a)"
   ]
  },
  {
   "cell_type": "code",
   "execution_count": 60,
   "id": "76f217ff",
   "metadata": {},
   "outputs": [
    {
     "name": "stdout",
     "output_type": "stream",
     "text": [
      "[[1, 2], 3, 4] [[1, 3], 3, 4]\n"
     ]
    }
   ],
   "source": [
    "#deepcopy()사용하기 위해 임포트\n",
    "#아래레벨의 모든 컬렉션을 복사할 경우 deepcopy를 사용한다.\n",
    "import copy as c\n",
    "\n",
    "a=[[1,2],3,4]\n",
    "b=c.deepcopy(a)\n",
    "#b이중 리스트라 0번째 리스트의 1번째 값을 3으로 변경\n",
    "b[0][1]=3\n",
    "#a,b를 출력\n",
    "print(a,b)"
   ]
  },
  {
   "cell_type": "code",
   "execution_count": null,
   "id": "7365e9f0",
   "metadata": {},
   "outputs": [],
   "source": []
  }
 ],
 "metadata": {
  "kernelspec": {
   "display_name": "Python 3 (ipykernel)",
   "language": "python",
   "name": "python3"
  },
  "language_info": {
   "codemirror_mode": {
    "name": "ipython",
    "version": 3
   },
   "file_extension": ".py",
   "mimetype": "text/x-python",
   "name": "python",
   "nbconvert_exporter": "python",
   "pygments_lexer": "ipython3",
   "version": "3.8.8rc1"
  }
 },
 "nbformat": 4,
 "nbformat_minor": 5
}
