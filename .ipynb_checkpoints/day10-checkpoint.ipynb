{
 "cells": [
  {
   "cell_type": "code",
   "execution_count": 3,
   "id": "11c4f766",
   "metadata": {},
   "outputs": [
    {
     "name": "stdout",
     "output_type": "stream",
     "text": [
      "a b c d e\n",
      "e c c b a\n",
      "가 나 다 라 마\n"
     ]
    }
   ],
   "source": [
    "#a에 \"abcde\" 문자열 담는다.\n",
    "a=\"abcde\"\n",
    "#각각의 인덱스 문자를 출력\n",
    "print(a[0],a[1],a[2],a[3],a[4])\n",
    "#인덱스 음수로 가져오면 거꾸로 순이다.\n",
    "print(a[-1],a[2],a[-3],a[-4],a[-5])\n",
    "a=\"가나다라마\"\n",
    "print(a[0],a[1],a[2],a[3],a[4])"
   ]
  },
  {
   "cell_type": "code",
   "execution_count": 9,
   "id": "bc97b5b8",
   "metadata": {},
   "outputs": [
    {
     "name": "stdout",
     "output_type": "stream",
     "text": [
      "bcde\n",
      "b\n",
      "abcde\n",
      "de\n",
      "c\n",
      "\n",
      "bcd\n"
     ]
    }
   ],
   "source": [
    "a=\"abcde\"\n",
    "#인덱스1부터4까지\n",
    "print(a[1:5])\n",
    "print(a[1:2])\n",
    "#인덱스 6전에값 출력\n",
    "print(a[:6])\n",
    "#인덱스 3부터 값 출력\n",
    "print(a[3:])\n",
    "#인덱스 2부터 2까지 출력\n",
    "print(a[2:-2])\n",
    "#인덱스 2부터 1까지 출력\n",
    "print(a[2:-3])\n",
    "#인덱스 1부터 3까지 출력\n",
    "print(a[1:-1])"
   ]
  },
  {
   "cell_type": "code",
   "execution_count": 10,
   "id": "434cf817",
   "metadata": {},
   "outputs": [
    {
     "name": "stdout",
     "output_type": "stream",
     "text": [
      "5\n",
      "18\n",
      "8 8\n",
      "1 14\n"
     ]
    }
   ],
   "source": [
    " a=\"abcdefghijklmabcdefgh\"\n",
    "print(a.find(\"f\")) #앞에서 부터 찾음, 찾은 값의 인덱스임\n",
    "print(a.rfind(\"f\")) #뒤에서 부터 찾음\n",
    "print(a.find(\"i\"),a.rfind(\"i\")) #만일 찾는 문자가 하나라면 결과는 동일\n",
    "print(a.index(\"b\"),a.rindex(\"b\")) #index함수도 결과는 동일"
   ]
  },
  {
   "cell_type": "code",
   "execution_count": 15,
   "id": "51d74691",
   "metadata": {
    "scrolled": true
   },
   "outputs": [
    {
     "ename": "ValueError",
     "evalue": "substring not found",
     "output_type": "error",
     "traceback": [
      "\u001b[1;31m---------------------------------------------------------------------------\u001b[0m",
      "\u001b[1;31mValueError\u001b[0m                                Traceback (most recent call last)",
      "Cell \u001b[1;32mIn[15], line 2\u001b[0m\n\u001b[0;32m      1\u001b[0m a\u001b[38;5;241m=\u001b[39m\u001b[38;5;124m\"\u001b[39m\u001b[38;5;124mabcdefghijklmabcdefgh\u001b[39m\u001b[38;5;124m\"\u001b[39m\n\u001b[1;32m----> 2\u001b[0m \u001b[38;5;28mprint\u001b[39m(\u001b[43ma\u001b[49m\u001b[38;5;241;43m.\u001b[39;49m\u001b[43mrindex\u001b[49m\u001b[43m(\u001b[49m\u001b[38;5;124;43m\"\u001b[39;49m\u001b[38;5;124;43mz\u001b[39;49m\u001b[38;5;124;43m\"\u001b[39;49m\u001b[43m)\u001b[49m)\n",
      "\u001b[1;31mValueError\u001b[0m: substring not found"
     ]
    }
   ],
   "source": [
    "a=\"abcdefghijklmabcdefgh\"\n",
    "print(a.rindex(\"z\")) #rindex()찾지못하면 에러"
   ]
  },
  {
   "cell_type": "code",
   "execution_count": 14,
   "id": "f12d0cbf",
   "metadata": {},
   "outputs": [
    {
     "name": "stdout",
     "output_type": "stream",
     "text": [
      "2\n",
      "13\n"
     ]
    }
   ],
   "source": [
    "a=\"abcdefghijklmabcdefgh\"\n",
    "print(a.count(\"f\")) #해당 문자의 개수를 반환\n",
    "print(a.rfind(\"abc\"))  #문자열을 넣어도 됨"
   ]
  },
  {
   "cell_type": "code",
   "execution_count": 17,
   "id": "b418c967",
   "metadata": {},
   "outputs": [
    {
     "name": "stdout",
     "output_type": "stream",
     "text": [
      "4\n",
      "a가 들어 있음\n",
      "a가 들어 있음\n"
     ]
    }
   ],
   "source": [
    "a=\"abcdfegabcdfeg\"\n",
    "#find()함수를 통해 f를 찾으면 인덱스값을 리턴받아\n",
    "#0보다 크니까 아래 출력\n",
    "if a.find(\"f\") > 0:\n",
    "    print (\"a가 들어 있음\")\n",
    "\n",
    "#만약 문자열a에 \"f\"가 들어있다면 출력\n",
    "if \"f\" in a : \n",
    "    print (\"a가 들어 있음\")"
   ]
  },
  {
   "cell_type": "code",
   "execution_count": 18,
   "id": "928c59e6",
   "metadata": {},
   "outputs": [
    {
     "name": "stdout",
     "output_type": "stream",
     "text": [
      "ABCDEFGH\n",
      "abcdefgh\n"
     ]
    }
   ],
   "source": [
    "a=\"abcDefGh\"\n",
    "#upper()로 문자열 대문자로 변경\n",
    "print(a.upper())\n",
    "a=\"abcDefGh\"\n",
    "#lower()로 문자열 소문자로 변경\n",
    "print(a.lower())"
   ]
  },
  {
   "cell_type": "code",
   "execution_count": 19,
   "id": "1875afe3",
   "metadata": {},
   "outputs": [
    {
     "name": "stdout",
     "output_type": "stream",
     "text": [
      "abc def hij \n",
      " abc def hij\n",
      "abc def hij\n",
      "abcdefhij\n"
     ]
    }
   ],
   "source": [
    "a=\" abc def hij \"\n",
    "#왼쪽 공백 제거\n",
    "print(a.lstrip())\n",
    "a=\" abc def hij \"\n",
    "#오른쪽 공백 제거\n",
    "print(a.rstrip())\n",
    "a=\" abc def hij \"\n",
    "#왼쪽, 오른쪽 공백 제거\n",
    "print(a.strip())\n",
    "a=\" abc def hij \"\n",
    "#모든 공백 제거\n",
    "print(a.replace(\" \",\"\"))"
   ]
  },
  {
   "cell_type": "code",
   "execution_count": 20,
   "id": "1d8e14c4",
   "metadata": {},
   "outputs": [
    {
     "name": "stdout",
     "output_type": "stream",
     "text": [
      "==========\n",
      "이름:  홍길동\n",
      "국어:  100\n",
      "영어:  95\n",
      "수학:  88\n",
      "==========\n"
     ]
    }
   ],
   "source": [
    "#문자열을 rec에 초기화\n",
    "rec=\"홍길동,100,95,88\"\n",
    "#split() ,기준으로 나눈다.\n",
    "item=rec.split(\",\")\n",
    "print(\"=\"*10)\n",
    "#순서대로 출력한다.\n",
    "print(\"이름: \", item[0])\n",
    "print(\"국어: \", item[1])\n",
    "print(\"영어: \", item[2])\n",
    "print(\"수학: \", item[3])\n",
    "print(\"=\"*10)"
   ]
  },
  {
   "cell_type": "code",
   "execution_count": 22,
   "id": "8c9649cb",
   "metadata": {},
   "outputs": [
    {
     "name": "stdout",
     "output_type": "stream",
     "text": [
      "==========\n",
      "0 ==> 본\n",
      "1 ==> 예제는\n",
      "2 ==> 빈칸으로\n",
      "3 ==> 구분되어\n",
      "4 ==> 있는\n",
      "5 ==> 한\n",
      "6 ==> 줄의\n",
      "7 ==> 데이터를\n",
      "8 ==> 빈칸을\n",
      "9 ==> \n",
      "10 ==> \n",
      "11 ==> \n",
      "12 ==> 구분하여\n",
      "13 ==> 나누어\n",
      "14 ==> 줌\n",
      "==========\n"
     ]
    }
   ],
   "source": [
    "rec=\"본 예제는 빈칸으로 구분되어 있는 한 줄의 데이터를 빈칸을    구분하여 나누어 줌\"\n",
    "item=rec.split(\" \")\n",
    "print(\"=\"*10)\n",
    "\n",
    "i=0\n",
    "for s in item:\n",
    "    print(i,\"==>\", s)\n",
    "    i+=1\n",
    "    \n",
    "print(\"=\"*10)"
   ]
  },
  {
   "cell_type": "code",
   "execution_count": 27,
   "id": "4b5396f5",
   "metadata": {},
   "outputs": [
    {
     "name": "stdout",
     "output_type": "stream",
     "text": [
      "[['나연', 100, 90, 100], ['정연', 90, 90, 100], ['모모', 80, 70, 90], ['사나', 90, 90, 80], ['지효', 100, 80, 80], ['미나', 50, 90, 90], ['다현', 80, 60, 100], ['채영', 70, 80, 90], ['쯔위', 100, 90, 90]]\n"
     ]
    }
   ],
   "source": [
    "#리스트 생성 값 담는다.\n",
    "dili_score=[\"나연,100,90,100\",\"정연,90,90,100\",\"모모,80,70,90\",\n",
    "\"사나,90,90,80\",\"지효,100,80,80\",\"미나,50,90,90\",\"다현,80,60,100\",\n",
    "\"채영,70,80,90\",\"쯔위,100,90,90\"]\n",
    "\n",
    "#score리스트 생성\n",
    "score=[]\n",
    "#dili_score리스트 값을 하나씩 반복\n",
    "for one_rec in dili_score:\n",
    "    #split을 통해 ,기준으로 나눠서 one_score 담는다.\n",
    "    one_score=one_rec.split(\",\")\n",
    "    one_score[1]=int(one_score[1]) #국어점수 숫자형 변환\n",
    "    one_score[2]=int(one_score[2]) #영어점수 숫자형 변환\n",
    "    one_score[3]=int(one_score[3]) #수학점수 숫자형 변환\n",
    "    score.append(one_score.copy()) # copy에 주의할 것..값 복사\n",
    "    \n",
    "#socre리스트에 값 복사된거 출력\n",
    "print(score)"
   ]
  },
  {
   "cell_type": "code",
   "execution_count": 29,
   "id": "ef2e9ea2",
   "metadata": {},
   "outputs": [
    {
     "name": "stdout",
     "output_type": "stream",
     "text": [
      "case1\n",
      "품목: 오징어땅콩  단가: 1000 원 수량: 10 개 합계: 10000 원\n",
      "case2\n",
      "품목:오징어땅콩 단가:1000원 수량:10개 합계:10000원\n",
      "case3\n",
      "품목:오징어땅콩 단가:1000원 수량:10개 합계:10000원\n",
      "case4\n",
      "품목:오징어땅콩      단가:01000원 수량:0x0a개 합계: 10000.000원\n"
     ]
    }
   ],
   "source": [
    "item=\"오징어땅콩\" #품목\n",
    "unit=1000 #단가\n",
    "qty=10 #수량\n",
    "tot=unit*qty #합계\n",
    "\n",
    "print(\"case1\") #지금까지 사용한 print방법, 칸이 띄어서 출력\n",
    "print(\"품목:\",item,\" 단가:\",unit,\"원 수량:\",qty,\"개 합계:\",tot,\"원\")\n",
    "print(\"case2\") #하나의 긴 문자열을 만들어 출력하면 공백없이 출력이 가능\n",
    "print(\"품목:\"+item+\" 단가:\"+str(unit)+\"원 수량:\"+str(qty)+\"개 합계:\"+str(tot)+\"원\")\n",
    "print(\"case3\") #출력포멧문자를 지정하여 원하는 포멧으로 출력이 가능\n",
    "print(\"품목:%s 단가:%d원 수량:%d개 합계:%d원\"%(item,unit,qty,tot))\n",
    "print(\"case4\") #포멧팅 예\n",
    "print(\"품목:%-10s 단가:%05d원 수량:0x%02x개 합계:%10.3f원\"%(item,unit,qty,tot))"
   ]
  },
  {
   "cell_type": "code",
   "execution_count": 30,
   "id": "4c792ae1",
   "metadata": {},
   "outputs": [
    {
     "name": "stdout",
     "output_type": "stream",
     "text": [
      "[ 1000][1000 ][01000]\n",
      "[   땅콩][땅콩   ][   땅콩]\n",
      "[1000]=[3e8][0x3e8][1750]\n",
      "[ 1000%]\n",
      "[a][b][c]\n"
     ]
    }
   ],
   "source": [
    "item=\"땅콩\" #문자\n",
    "unit=1000 #숫자\n",
    "\n",
    "# %5d : 5칸으로 숫자표시하며 오른쪽으로 정렬하고앞은 공백으로 채움\n",
    "# %05d: 5칸으로 숫자를 표시하고 앞에서 부터 0채움\n",
    "# %-5d: 5칸으로 숫자를 표현,단 왼쪽부터 채우고 넘어가면 짤림\n",
    "print(\"[%5d][%-5d][%05d]\"%(unit,unit,unit))\n",
    "print(\"[%5s][%-5s][%05s]\"%(item,item,item))\n",
    "# %x (16진수,%#x)\n",
    "# %o (8진수)\n",
    "print(\"[%d]=[%x][%#x][%o]\"%(unit,unit,unit,unit))\n",
    "print(\"[%5d%%]\"%unit)\n",
    "\n",
    "#한글은 1byte로 자르면 에러\n",
    "#print(\"[%c][%c][%c]\"%(unit[0],unit[1]))\n",
    "a=\"abcd\"\n",
    "print(\"[%c][%c][%c]\"%(a[0],a[1],a[2]))"
   ]
  },
  {
   "cell_type": "code",
   "execution_count": 37,
   "id": "a4a9fd78",
   "metadata": {},
   "outputs": [
    {
     "name": "stdout",
     "output_type": "stream",
     "text": [
      "-1,234,567,890.123\n"
     ]
    }
   ],
   "source": [
    " #locale라이브러리를 임포트\n",
    "import locale\n",
    "# 시스템 기본 로케일 사용\n",
    "locale.setlocale(locale.LC_ALL, \"\")\n",
    "n = -1234567890.123\n",
    "#locale내장 함수format()을 사용하여 3자리마다 , 찍는다\n",
    "s = locale.format_string(\"%.3f\", n , 1)\n",
    "print(s)"
   ]
  },
  {
   "cell_type": "code",
   "execution_count": 48,
   "id": "0fc7e9a5",
   "metadata": {},
   "outputs": [
    {
     "name": "stdout",
     "output_type": "stream",
     "text": [
      "[     1,000][1,000     ][     1,000]\n",
      "[   땅콩][땅콩   ][   땅콩]\n",
      "[1,000]=[3e8][0x3e8][1750]\n",
      "[1,000%]\n",
      "[a][b][c]\n"
     ]
    }
   ],
   "source": [
    " #locale라이브러리를 임포트\n",
    "import locale\n",
    "# 시스템 기본 로케일 사용\n",
    "locale.setlocale(locale.LC_ALL, \"\")\n",
    "\n",
    "item=\"땅콩\" #문자\n",
    "unit=1000 #숫자\n",
    "\n",
    "# %5d : 5칸으로 숫자표시하며 오른쪽으로 정렬하고앞은 공백으로 채움\n",
    "# %05d: 5칸으로 숫자를 표시하고 앞에서 부터 0채움\n",
    "# %-5d: 5칸으로 숫자를 표현,단 왼쪽부터 채우고 넘어가면 짤림\n",
    "print(\"[%10s][%-10s][%010s]\"%(locale.format_string(\"%.3d\", unit, 1),\n",
    "                           locale.format_string(\"%.3d\", unit, 1),\n",
    "                           locale.format_string(\"%.3d\", unit, 1)))\n",
    "print(\"[%5s][%-5s][%05s]\"%(item,item,item))\n",
    "# %x (16진수,%#x)\n",
    "# %o (8진수)\n",
    "print(\"[%s]=[%x][%#x][%o]\"%(locale.format_string(\"%.3d\", unit, 1),unit,unit,unit))\n",
    "print(\"[%5s%%]\"%locale.format_string(\"%.3d\", unit, 1))\n",
    "\n",
    "#한글은 1byte로 자르면 에러\n",
    "#print(\"[%c][%c][%c]\"%(unit[0],unit[1]))\n",
    "a=\"abcd\"\n",
    "print(\"[%c][%c][%c]\"%(a[0],a[1],a[2]))"
   ]
  },
  {
   "cell_type": "code",
   "execution_count": 67,
   "id": "1e27fac2",
   "metadata": {},
   "outputs": [
    {
     "name": "stdout",
     "output_type": "stream",
     "text": [
      "**************************************************\n",
      "총금액:    1,000,000원 \t달러환율: $1,010       \n",
      "지급달러: $988         \n",
      "거스름돈:      5원 \t은행수수료:  1,996원\n",
      "**************************************************\n"
     ]
    }
   ],
   "source": [
    "import locale #locale라이브러리를 임포트 함, 설치는 필요없음\n",
    "locale.setlocale(locale.LC_ALL, \"\") # 시스템 기본 로케일 사용\n",
    "\n",
    "myWon=1000000 #100만원\n",
    "moneyEx=1010.12 # 달러환율\n",
    "commission_rate=0.002 # 은행 수수료 율\n",
    "a = moneyEx + moneyEx*commission_rate #1달러당 환율금액 과 해당금액에 대한 수수료의 합\n",
    "usd = int (myWon /a) # 나의 돈을 위의 금액으로 나오면 소수점이 나오기 때문에\n",
    "# 해당 소수점을 버린다 즉 100만원에 989.99달러 나오면 989달러를 준다. 소수점 아래는 버린다\n",
    "\n",
    "remain = int(myWon - usd * a) # 거스름돈 계산 =100만원 - 달러액*(환율+달러당 수수료)# 소수점 아래는 버린다.\n",
    "commission = usd * moneyEx * commission_rate # 환전 수수료총액 계산, 금액은 소수점이하 올림처리해 보자\n",
    "\n",
    "if(commission != float(int(commission))) : # 이 비교문은 소수점이 있는지 체크\n",
    "    commission = int(commission) +1 #소수점이 있다면 올려서 은행이 처리\n",
    "else:\n",
    "    commission = int(commission) #소수점 아래 숫자가 없다면 단순 정수형 처리\n",
    "\n",
    "print(\"*\"*50)\n",
    "print(\"총금액: %s원 \\t달러환율: $%s\"%( \\\n",
    "    locale.format_string(\"%12d\", myWon, 1), \\\n",
    "    locale.format_string(\"%-12d\", moneyEx, 1)) )\n",
    "print(\"지급달러: $%s\"% locale.format_string(\"%-12d\", usd, 1))\n",
    "print(\"거스름돈: %s원 \\t은행수수료: %s원\"%( \\\n",
    "    locale.format_string(\"%6d\", remain, 1), \\\n",
    "    locale.format_string(\"%6d\", commission, 1)))\n",
    "print(\"*\"*50)\n"
   ]
  },
  {
   "cell_type": "code",
   "execution_count": null,
   "id": "12c608a4",
   "metadata": {},
   "outputs": [],
   "source": []
  }
 ],
 "metadata": {
  "kernelspec": {
   "display_name": "Python 3 (ipykernel)",
   "language": "python",
   "name": "python3"
  },
  "language_info": {
   "codemirror_mode": {
    "name": "ipython",
    "version": 3
   },
   "file_extension": ".py",
   "mimetype": "text/x-python",
   "name": "python",
   "nbconvert_exporter": "python",
   "pygments_lexer": "ipython3",
   "version": "3.8.8rc1"
  }
 },
 "nbformat": 4,
 "nbformat_minor": 5
}
