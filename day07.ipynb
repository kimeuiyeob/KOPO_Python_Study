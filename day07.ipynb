{
 "cells": [
  {
   "cell_type": "code",
   "execution_count": 1,
   "id": "db9d62ef",
   "metadata": {},
   "outputs": [
    {
     "name": "stdout",
     "output_type": "stream",
     "text": [
      "별10개 찍기\n",
      "**********\n",
      "\n",
      "별3개 찍기\n",
      "***\n",
      "\n",
      "별5개 찍기\n",
      "*****\n",
      "\n"
     ]
    }
   ],
   "source": [
    "#별 찍시 함수 파라미터 n\n",
    "def starprint(n):\n",
    "    #들어온 n 값만큼 반복해서 출력\n",
    "    for i in range(n):\n",
    "        print(\"*\",end=\"\")\n",
    "    print(\"\\n\")\n",
    "    \n",
    "print(\"별10개 찍기\");\n",
    "#메서드 실행 매게변수로 10 넘겨준다.\n",
    "starprint(10)\n",
    "print(\"별3개 찍기\");\n",
    "starprint(3)\n",
    "print(\"별5개 찍기\");\n",
    "starprint(5)"
   ]
  },
  {
   "cell_type": "code",
   "execution_count": 2,
   "id": "2e2ee5be",
   "metadata": {},
   "outputs": [
    {
     "name": "stdout",
     "output_type": "stream",
     "text": [
      "1~10까지의 합: 55\n",
      "1~1000까지의 합: 500500\n",
      "1~10000까지의 합: 50005000\n"
     ]
    }
   ],
   "source": [
    "#값이 넘어오면 그 값만큼 1씩 증가 해서 반복\n",
    "def intsum(n):\n",
    "    #누적할 sum변수 생성\n",
    "    sum=0;\n",
    "    for i in range(1,n+1,1):\n",
    "        #누적하고 리턴한다.\n",
    "        sum+=i\n",
    "    return sum\n",
    "\n",
    "#함수 실행한 값 출력 순서대로 파라미터로 값을 넘겨준다.\n",
    "print(\"1~10까지의 합:\",intsum(10))\n",
    "print(\"1~1000까지의 합:\",intsum(1000))\n",
    "print(\"1~10000까지의 합:\",intsum(10000))"
   ]
  },
  {
   "cell_type": "code",
   "execution_count": 3,
   "id": "c6d59391",
   "metadata": {},
   "outputs": [
    {
     "name": "stdout",
     "output_type": "stream",
     "text": [
      "1~10까지의 합: 55\n",
      "100~1000까지의 합: 495550\n",
      "5000~10000까지의 합: 37507500\n"
     ]
    }
   ],
   "source": [
    "#2개 파라미터로 넘어온 값을 x,y로 받고\n",
    "def intsum(x,y):\n",
    "    sum=0;\n",
    "    #반복은 x부터 y+1까지 1씩 증가해서 반복\n",
    "    for i in range(x,y+1,1):\n",
    "        #sum에 누적\n",
    "        sum+=i\n",
    "    return sum\n",
    "#함수 실행한 값 출력 순서대로 파라미터로 값을 넘겨준다.\n",
    "print(\"1~10까지의 합:\",intsum(1,10))\n",
    "print(\"100~1000까지의 합:\",intsum(100,1000))\n",
    "print(\"5000~10000까지의 합:\",intsum(5000,10000))"
   ]
  },
  {
   "cell_type": "code",
   "execution_count": 4,
   "id": "f30cd78d",
   "metadata": {},
   "outputs": [
    {
     "name": "stdout",
     "output_type": "stream",
     "text": [
      "1~10까지의 합에 5를 더함: 60\n",
      "100~1000까지의 합에 33을 곱함: 16353150\n"
     ]
    }
   ],
   "source": [
    "#매게변수 x,y로 값을 받아온다.\n",
    "def intsum(x,y):\n",
    "    sum=0;\n",
    "    #1부터 10까지 반복 1씩 증가\n",
    "    for i in range(x,y+1,1):\n",
    "        #누적\n",
    "        sum+=i\n",
    "    #sum값을 리턴\n",
    "    return sum\n",
    "#함수 실행뒤 리턴된 값을 출력, 55에서 +5해서 60 출력\n",
    "print(\"1~10까지의 합에 5를 더함:\",intsum(1,10)+5)\n",
    "#100에서부터 1000까지반복돌려서 누적된 값에 33을 곱한거 출력\n",
    "i=intsum(100,1000)*33\n",
    "print(\"100~1000까지의 합에 33을 곱함:\",i)"
   ]
  },
  {
   "cell_type": "code",
   "execution_count": 8,
   "id": "253f893b",
   "metadata": {},
   "outputs": [
    {
     "name": "stdout",
     "output_type": "stream",
     "text": [
      "함수내부에서 sum값을 출력: 495550\n",
      "100~1000까지의 합: None\n",
      "100~1000까지의 합에 33을 곱함: None\n"
     ]
    }
   ],
   "source": [
    "#파라미터 x,y로 값을 받아와 반복 실행\n",
    "def intsum(x,y):\n",
    "    sum=0;\n",
    "    #100부터 1000까지 반복 1씩 증가\n",
    "    for i in range(x,y+1,1):\n",
    "        #sum에다 누적\n",
    "        sum+=i\n",
    "    print(\"함수내부에서 sum값을 출력:\",sum)\n",
    "#리턴한 값이 없어서 i에는 아무값이 안들어가있다.\n",
    "#그래서 아래 None을 출력\n",
    "i=intsum(100,1000)\n",
    "print(\"100~1000까지의 합:\",i)\n",
    "print(\"100~1000까지의 합에 33을 곱함:\",i)"
   ]
  },
  {
   "cell_type": "code",
   "execution_count": 17,
   "id": "b970697c",
   "metadata": {},
   "outputs": [
    {
     "name": "stdout",
     "output_type": "stream",
     "text": [
      "==================================================\n",
      "이름\t국어\t영어\t수학\t총점\t평균\n",
      "==================================================\n",
      "나연 \t 100 \t 90 \t 100 \t 290 \t 96\n",
      "정연 \t 100 \t 100 \t 80 \t 280 \t 93\n",
      "모모 \t 90 \t 100 \t 100 \t 290 \t 96\n",
      "사나 \t 90 \t 80 \t 90 \t 260 \t 86\n",
      "지효 \t 100 \t 100 \t 100 \t 300 \t 100\n",
      "미나 \t 80 \t 70 \t 90 \t 240 \t 80\n",
      "다현 \t 70 \t 60 \t 100 \t 230 \t 76\n",
      "채영 \t 80 \t 100 \t 90 \t 270 \t 90\n",
      "쯔위 \t 100 \t 100 \t 100 \t 300 \t 100\n",
      "==================================================\n",
      "반총점\t 810 \t 800 \t 850 \t 273 \t 91.0\n",
      "==================================================\n"
     ]
    }
   ],
   "source": [
    "def titleprint():\n",
    "    #별을 50번 출력\n",
    "    print(\"=\"*50)\n",
    "    #아래 탭한번씩 하면서 출력\n",
    "    print(\"이름\\t국어\\t영어\\t수학\\t총점\\t평균\")\n",
    "    print(\"=\"*50)\n",
    "    \n",
    "def itemprint(name,kor,eng,mat):\n",
    "    #매게변수로 값들을 받아오면 아래 출력 / kor+eng+mat 합계 / (kor+eng+mat)//3 평균\n",
    "    print(name,\"\\t\",kor,\"\\t\",eng,\"\\t\",mat,\"\\t\",kor+eng+mat,\"\\t\",(kor+eng+mat)//3)\n",
    "    \n",
    "def tailprint():\n",
    "    #누적할 변수 생성\n",
    "    totkor=0\n",
    "    #각각의 점수를 다 각각의 변수에 누적한다.\n",
    "    for i in ckor:\n",
    "        totkor+=i\n",
    "    toteng=0\n",
    "    for i in ceng:\n",
    "        toteng+=i\n",
    "    totmat=0\n",
    "    for i in cmat:\n",
    "        totmat+=i\n",
    "    print(\"=\"*50)\n",
    "    #누적된 결과값을 출력한다.\n",
    "    print(\"반총점\\t\",totkor,\"\\t\",toteng,\"\\t\",totmat,\"\\t\",(totkor+toteng+totmat)//9,\"\\t\",(totkor+toteng+totmat)/3//9)\n",
    "    print(\"=\"*50)\n",
    "\n",
    "cname=[\"나연\",\"정연\",\"모모\",\"사나\",\"지효\",\"미나\",\"다현\",\"채영\",\"쯔위\"]\n",
    "ckor =[ 100,100,90,90,100,80,70,80,100]\n",
    "ceng =[ 90,100,100,80,100,70,60,100,100]\n",
    "cmat =[ 100,80,100,90,100,90,100,90,100]\n",
    "\n",
    "titleprint()\n",
    "\n",
    "for i in range(9):\n",
    "    itemprint(cname[i],ckor[i],ceng[i],cmat[i])\n",
    "    \n",
    "tailprint() "
   ]
  },
  {
   "cell_type": "code",
   "execution_count": 18,
   "id": "f593f2cb",
   "metadata": {},
   "outputs": [
    {
     "name": "stdout",
     "output_type": "stream",
     "text": [
      "case 1: 1\n",
      "case 2: 7\n",
      "case 3: 9505\n"
     ]
    }
   ],
   "source": [
    "#인수 개수를 여러개 보낼때 *을 사용한다.\n",
    "def sumsum(*num):\n",
    "    sum=0\n",
    "    #순서대로 값을 누적해서 리턴한다.\n",
    "    for i in num:\n",
    "        sum+=i\n",
    "    return sum\n",
    "\n",
    "#반복문에서 인자들을 순서대로 누적한 값을 출력한다.\n",
    "print(\"case 1:\", sumsum(1))\n",
    "print(\"case 2:\", sumsum(1,2,4))\n",
    "print(\"case 3:\", sumsum(1,2,34,567,8901))"
   ]
  },
  {
   "cell_type": "code",
   "execution_count": 19,
   "id": "a017e097",
   "metadata": {},
   "outputs": [
    {
     "name": "stdout",
     "output_type": "stream",
     "text": [
      "case 1: 1\n",
      "case 2: 7\n",
      "case 3: 9505\n"
     ]
    }
   ],
   "source": [
    "#배열을 매게변수로 받는다\n",
    "def sumsum(num):\n",
    "    sum=0\n",
    "    #안에 값을 순서대로 꺼내와 누적한다.\n",
    "    for i in num:\n",
    "        sum+=i\n",
    "        #리턴한다.\n",
    "    return sum\n",
    "#누적된 값을 출력한다.\n",
    "print(\"case 1:\", sumsum([1]))\n",
    "print(\"case 2:\", sumsum([1,2,4]))\n",
    "print(\"case 3:\", sumsum([1,2,34,567,8901]))"
   ]
  },
  {
   "cell_type": "code",
   "execution_count": 20,
   "id": "f7a2de68",
   "metadata": {},
   "outputs": [
    {
     "name": "stdout",
     "output_type": "stream",
     "text": [
      "case 1: 55\n",
      "case 2: 3825\n",
      "case 3: 495550\n"
     ]
    }
   ],
   "source": [
    "#파라미터로 디폴트롤 정해준다\n",
    "def defaultest (start,end=1000,step=1):\n",
    "    sum=0\n",
    "    #인자로 받은 값만큼 반복돌려 누적시키고 리턴\n",
    "    for i in range(start,end+1,step):\n",
    "        sum+=i\n",
    "    return sum\n",
    "#매게변수로 0,10,1을 보내면 0부터 10까지 1씩 반복해 누적된 값 출력\n",
    "print(\"case 1:\", defaultest(0,10,1))\n",
    "#50,100만 보내면 default step1이 들어가서 50부터 100까지 누적해서 값 출력\n",
    "print(\"case 2:\", defaultest(50,100))\n",
    "#deafault 1000이랑 1이 들어가서 100부터 1000까지 1씩 증가해서 누적 값 출력\n",
    "print(\"case 3:\", defaultest(100)) "
   ]
  },
  {
   "cell_type": "code",
   "execution_count": 21,
   "id": "da5999e8",
   "metadata": {},
   "outputs": [
    {
     "name": "stdout",
     "output_type": "stream",
     "text": [
      "case 1: 55\n",
      "case 2: 55\n",
      "case 3: 55\n",
      "case 4: 55\n",
      "case 5: 55\n"
     ]
    }
   ],
   "source": [
    "def defaultest (start,end=1000,step=1):\n",
    "    sum=0\n",
    "    for i in range(start,end+1,step):\n",
    "        sum+=i\n",
    "    return sum\n",
    "\n",
    "print(\"case 1:\", defaultest(0,10,1))\n",
    "print(\"case 2:\", defaultest(start=0,end=10,step=1))\n",
    "#키워드를 지정하면 인자 순서상관없이 잘 잘 읽는다.\n",
    "print(\"case 3:\", defaultest(step=1,end=10,start=0))\n",
    "#맨뒤로 부터만 키워드 인수를 사용하고 앞은 일반인수\n",
    "print(\"case 4:\", defaultest(0,10,step=1))\n",
    "#맨뒤로 부터만 키워드 인수를 사용하고 앞은 일반인수\n",
    "print(\"case 5:\", defaultest(0,step=1,end=10))"
   ]
  },
  {
   "cell_type": "code",
   "execution_count": 23,
   "id": "d784d30d",
   "metadata": {},
   "outputs": [
    {
     "ename": "SyntaxError",
     "evalue": "positional argument follows keyword argument (3680855699.py, line 7)",
     "output_type": "error",
     "traceback": [
      "\u001b[1;36m  Cell \u001b[1;32mIn[23], line 7\u001b[1;36m\u001b[0m\n\u001b[1;33m    print(\"error1:\", defaultest(0,step=1,10))\u001b[0m\n\u001b[1;37m                                         ^\u001b[0m\n\u001b[1;31mSyntaxError\u001b[0m\u001b[1;31m:\u001b[0m positional argument follows keyword argument\n"
     ]
    }
   ],
   "source": [
    "def defaultest (start,end=1000,step=1):\n",
    "    sum=0\n",
    "    for i in range(start,end+1,step):\n",
    "        sum+=i\n",
    "    return sum\n",
    "#에러 발생 -> 뒤에서부터 키워드 인수를 사용해야 한다.\n",
    "print(\"error1:\", defaultest(0,step=1,10))\n",
    "print(\"error2:\", defaultest(start=0,step=1,10))"
   ]
  },
  {
   "cell_type": "code",
   "execution_count": 30,
   "id": "8772e05c",
   "metadata": {},
   "outputs": [
    {
     "name": "stdout",
     "output_type": "stream",
     "text": [
      "case 1: 55\n",
      "case 2: 5005\n"
     ]
    }
   ],
   "source": [
    "#인수 개수를 가변으로 받는다.\n",
    "def testfunc (**args):\n",
    "    start=args[\"start\"] # 키워드 가변\n",
    "    end=args[\"end\"] # 키워드 가변\n",
    "    step=args[\"step\"] # 키워드 가변\n",
    "    sum=0\n",
    "    #메서드 호출할때 파라미터로 값을 보낸기준으로 반복돌아 누적\n",
    "    for i in range(start,end+1,step):\n",
    "        sum+=i\n",
    "    #누적된 값을 출력\n",
    "    return sum\n",
    "#start=args[\"start\"] 보낸 값을 start에 담아 반복돌아 누적된값 출력\n",
    "print(\"case 1:\", testfunc(start=0,end=10,step=1))\n",
    "print(\"case 2:\", testfunc(end=100,step=1,start=10))"
   ]
  },
  {
   "cell_type": "code",
   "execution_count": 35,
   "id": "ae26c2a2",
   "metadata": {},
   "outputs": [
    {
     "name": "stdout",
     "output_type": "stream",
     "text": [
      "==============================\n",
      "***********\n",
      "\n",
      "&&&&&&&&&&&\n",
      "\n",
      "===========\n",
      "\n",
      "==============================\n",
      "   ********\n",
      "\n",
      "   ????????\n",
      "\n",
      "   ========\n",
      "\n",
      "   %%%%%%%%\n",
      "\n"
     ]
    }
   ],
   "source": [
    "#가변과 키워드 가변을 매게변수로 받는다.\n",
    "def testfunc (*s,**args):\n",
    "    #아래는 값을 담는다.\n",
    "    start=args[\"start\"]\n",
    "    end=args[\"end\"]\n",
    "    step=args[\"step\"]\n",
    "    #s에서 순서대로 값을 c에 담아 출력한다 * & = 순으로\n",
    "    for c in s:\n",
    "        #순서대로 출력 \"*,\"&\",\"=\"\n",
    "        print(\" \"*start,end=\"\")\n",
    "        for i in range(start,end+1,step):\n",
    "            #순서대로 출력 \"*\",\"?\",\"=\",\"%\"\n",
    "            print(c,end=\"\")\n",
    "        print(\"\\n\")\n",
    "        \n",
    "print(\"=\"*30)\n",
    "testfunc(\"*\",\"&\",\"=\",start=0,end=10,step=1)\n",
    "print(\"=\"*30)\n",
    "testfunc(\"*\",\"?\",\"=\",\"%\",start=3,end=10,step=1)"
   ]
  },
  {
   "cell_type": "code",
   "execution_count": 36,
   "id": "91393e78",
   "metadata": {},
   "outputs": [
    {
     "ename": "NameError",
     "evalue": "name 'a' is not defined",
     "output_type": "error",
     "traceback": [
      "\u001b[1;31m---------------------------------------------------------------------------\u001b[0m",
      "\u001b[1;31mNameError\u001b[0m                                 Traceback (most recent call last)",
      "Cell \u001b[1;32mIn[36], line 5\u001b[0m\n\u001b[0;32m      2\u001b[0m     a\u001b[38;5;241m=\u001b[39m\u001b[38;5;241m1\u001b[39m\n\u001b[0;32m      4\u001b[0m test()\n\u001b[1;32m----> 5\u001b[0m \u001b[38;5;28mprint\u001b[39m(\u001b[43ma\u001b[49m)\n",
      "\u001b[1;31mNameError\u001b[0m: name 'a' is not defined"
     ]
    }
   ],
   "source": [
    "#함수 안에서 지역변수로 선언했기때문에\n",
    "#밖에서 a를 찾을수 없다\n",
    "def test():\n",
    "    a=1\n",
    "    \n",
    "test()\n",
    "print(a)"
   ]
  },
  {
   "cell_type": "code",
   "execution_count": 37,
   "id": "bbcd1419",
   "metadata": {},
   "outputs": [
    {
     "name": "stdout",
     "output_type": "stream",
     "text": [
      "testf1: 1\n",
      "testf2: 즐거운 실습\n",
      "testf3: 3.141592\n",
      "랄랄라\n"
     ]
    }
   ],
   "source": [
    "def testf1():\n",
    "    a=1\n",
    "    print(\"testf1:\",a)\n",
    "    \n",
    "def testf2():\n",
    "    a=\"즐거운 실습\"\n",
    "    print(\"testf2:\",a)\n",
    "    \n",
    "def testf3():\n",
    "    a=3.141592\n",
    "    print(\"testf3:\",a)\n",
    "#함수 f1호출헤서 안에 있는 print()출력 아래 동일 \n",
    "testf1()\n",
    "testf2()\n",
    "testf3()\n",
    "#위에는 다 지역변수이고 아래는 전역변수a로 랄랄라 초기화\n",
    "a=\"랄랄라\"\n",
    "#출력\n",
    "print(a)"
   ]
  },
  {
   "cell_type": "code",
   "execution_count": 39,
   "id": "7d414c58",
   "metadata": {},
   "outputs": [
    {
     "name": "stdout",
     "output_type": "stream",
     "text": [
      "testf1: 현재 달러환율은 1달러당  1021 원이며\n",
      "testf1: 미화 100달러는  102100 원 입니다\n",
      "testf1: 현재 달러환율은 1달러당  1120 원이며\n",
      "testf1: 미화 100달러는  112000 원 입니다\n",
      "\n",
      "testf2: 현재 달러환율은 1달러당  1011 원이며\n",
      "testf2: 미화 100달러는  101100 원 입니다\n",
      "testf1: 현재 달러환율은 1달러당  1120 원이며\n",
      "testf1: 미화 100달러는  112000 원 입니다\n"
     ]
    }
   ],
   "source": [
    "def testf1():\n",
    "    print(\"testf1: 현재 달러환율은 1달러당 \",exrate,\"원이며\")\n",
    "    print(\"testf1: 미화 100달러는 \",100*exrate,\"원 입니다\")\n",
    "    \n",
    "def testf2():\n",
    "    #여기서 exrate값을 1011로 초기화해서 1011로 출력되게된다.\n",
    "    exrate=1011\n",
    "    print(\"testf2: 현재 달러환율은 1달러당 \",exrate,\"원이며\")\n",
    "    print(\"testf2: 미화 100달러는 \",100*exrate,\"원 입니다\")\n",
    "    \n",
    "#전역변수로 선언했기 때문에 testf1에서 1021원으로 출력된다.   \n",
    "exrate=1021\n",
    "testf1()\n",
    "exrate=1120\n",
    "testf1()\n",
    "print()\n",
    "testf2()\n",
    "testf1() "
   ]
  },
  {
   "cell_type": "code",
   "execution_count": 42,
   "id": "43364f20",
   "metadata": {},
   "outputs": [
    {
     "name": "stdout",
     "output_type": "stream",
     "text": [
      "Help on function testf1 in module __main__:\n",
      "\n",
      "testf1()\n",
      "    이 함수는 홍필두가 최선을 다하여 멋지게 만든 함수\n",
      "    인수 값에 숫자만큼 1부터 해당 값을 더한 값을 출력해 준다\n",
      "\n"
     ]
    }
   ],
   "source": [
    "def testf1():\n",
    "    \"\"\"\n",
    "이 함수는 의엽씨의 환상적인 함수이다.\n",
    "인수 값에 숫자만큼 1부터 해당 값을 더한 값을 출력해 준다.\n",
    "\"\"\"\n",
    "    sum=0\n",
    "    for i in range(n+1):\n",
    "        sum+=i\n",
    "    print(\"합:\",sum)\n",
    "    \n",
    "# 해당 함수가 궁금할때 help()하면 \"\"\"의 설명문을 읽을수있다.\n",
    "help(testf1)"
   ]
  },
  {
   "cell_type": "code",
   "execution_count": null,
   "id": "d03436ff",
   "metadata": {},
   "outputs": [],
   "source": []
  }
 ],
 "metadata": {
  "kernelspec": {
   "display_name": "Python 3 (ipykernel)",
   "language": "python",
   "name": "python3"
  },
  "language_info": {
   "codemirror_mode": {
    "name": "ipython",
    "version": 3
   },
   "file_extension": ".py",
   "mimetype": "text/x-python",
   "name": "python",
   "nbconvert_exporter": "python",
   "pygments_lexer": "ipython3",
   "version": "3.8.8rc1"
  }
 },
 "nbformat": 4,
 "nbformat_minor": 5
}
