{
 "cells": [
  {
   "cell_type": "code",
   "execution_count": 12,
   "id": "c4b5cfd8",
   "metadata": {},
   "outputs": [
    {
     "name": "stdout",
     "output_type": "stream",
     "text": [
      "반가워 파이썬아 난 의엽이라구 해\n"
     ]
    }
   ],
   "source": [
    "a = \"반가워 파이썬아 난 의엽이라구 해\" //문자열을 a변수에 담는다.\n",
    "print(a) //a 를 출력한다."
   ]
  },
  {
   "cell_type": "code",
   "execution_count": 13,
   "id": "7dcc74d9",
   "metadata": {},
   "outputs": [
    {
     "name": "stdout",
     "output_type": "stream",
     "text": [
      "안녕 내 나이는 31 살이야\n"
     ]
    }
   ],
   "source": [
    "a = \"안녕\" //문자열을 a에 담는다.\n",
    "b = \"내 나이는\"\n",
    "c = 31 //정수를 c에 담는다.\n",
    "d = \"살이야\"\n",
    "print(a, b, c, d) //출력한다."
   ]
  },
  {
   "cell_type": "code",
   "execution_count": 19,
   "id": "c37fcf04",
   "metadata": {},
   "outputs": [
    {
     "name": "stdout",
     "output_type": "stream",
     "text": [
      "김의엽\n",
      "파이썬\n",
      "어려워~\n"
     ]
    }
   ],
   "source": [
    "names =[\"김의엽\",\"파이썬\",\"어려워~\"] //배열 names에 3개의 문자열을 담는다.\n",
    "print(names[0]) //0번째 인덱스부터 순서대로 출력한다.\n",
    "print(names[1])\n",
    "print(names[2])"
   ]
  },
  {
   "cell_type": "code",
   "execution_count": 20,
   "id": "63847572",
   "metadata": {},
   "outputs": [
    {
     "name": "stdout",
     "output_type": "stream",
     "text": [
      "계산을 도와주지 나는 계산기라구!!\n",
      "첫번째 숫자를 입력하라구 : 3\n",
      "두번째 숫자를 입력하라구 : 5\n",
      "너가 입력한 값은 :  3 5\n"
     ]
    }
   ],
   "source": [
    "print(\"계산을 도와주지 나는 계산기라구!!\")\n",
    "a = int(input(\"첫번째 숫자를 입력하라구 : \")) //정수 입력을 받아서 a에 담는다.\n",
    "b = int(input(\"두번째 숫자를 입력하라구 : \")) //정수 입력을 받아서 b에 담는다.\n",
    "print(\"너가 입력한 값은 : \",a, b) //출력한다."
   ]
  },
  {
   "cell_type": "code",
   "execution_count": 21,
   "id": "55fc53e2",
   "metadata": {},
   "outputs": [
    {
     "name": "stdout",
     "output_type": "stream",
     "text": [
      "계산을 도와주지 나는 계산기라구!!\n",
      "첫번째 숫자를 입력하라구 : 3\n",
      "두번째 숫자를 입력하라구 : 5\n",
      "너가 입력한 값은 :  3 5\n",
      "이제 연산자를 입력해봐~~\n",
      "+,-,*,/ 여기서 골라야되!+\n",
      "너가 고른 연산자는 :  +\n"
     ]
    }
   ],
   "source": [
    "print(\"계산을 도와주지 나는 계산기라구!!\")\n",
    "a = int(input(\"첫번째 숫자를 입력하라구 : \"))//정수 입력을 받아서 a에 담는다.\n",
    "b = int(input(\"두번째 숫자를 입력하라구 : \")) //정수 입력을 받아서 b에 담는다.\n",
    "print(\"너가 입력한 값은 : \",a, b) //a와b를 출력한다.\n",
    "print(\"이제 연산자를 입력해봐~~\")\n",
    "c = input(\"+,-,*,/ 여기서 골라야되!\") //문자열을 입력받아서 c에 담는다.\n",
    "print(\"너가 고른 연산자는 : \",c) //출력한다."
   ]
  },
  {
   "cell_type": "code",
   "execution_count": 23,
   "id": "e854f5ca",
   "metadata": {},
   "outputs": [
    {
     "name": "stdout",
     "output_type": "stream",
     "text": [
      "계산을 도와주지 나는 계산기라구!!\n",
      "첫번째 숫자를 입력하라구 : 5\n",
      "두번째 숫자를 입력하라구 : 3\n",
      "너가 입력한 값은 :  5 3\n",
      "이제 연산자를 입력해봐~~\n",
      "+,-,*,/ 여기서 골라야되!+\n",
      "너가 고른 연산자는 :  +\n",
      "덧셈의 결과는 :  8\n",
      "고맙지?\n"
     ]
    }
   ],
   "source": [
    "print(\"계산을 도와주지 나는 계산기라구!!\")\n",
    "a = int(input(\"첫번째 숫자를 입력하라구 : \"))//정수 입력을 받아서 a에 담는다.\n",
    "b = int(input(\"두번째 숫자를 입력하라구 : \"))//정수 입력을 받아서 b에 담는다.\n",
    "print(\"너가 입력한 값은 : \",a, b) //a,b를 출력한다.\n",
    "print(\"이제 연산자를 입력해봐~~\")\n",
    "c = input(\"+,-,*,/ 여기서 골라야되!\") //문자열을 입력받아서 c에 담는다.\n",
    "print(\"너가 고른 연산자는 : \",c) //c를 출력한다.\n",
    "if c == \"+\" : //만약 c값이 +와 같다면\n",
    "    d = a+b //a와 b를 더해 d에 담느다.\n",
    "    print(\"덧셈의 결과는 : \",d) //d를 출력한다. 아래는 위와 같다.\n",
    "elif c == \"-\" :\n",
    "    d = a-b\n",
    "    print(\"뺄셈의 결과는 : \",d)\n",
    "elif c == \"*\" :\n",
    "    d = a*b\n",
    "    print(\"곱셈의 결과는 : \",d)\n",
    "elif c == \"/\" :\n",
    "    d = a/b\n",
    "    print(\"나눗셈의 결과는 : \",d)\n",
    "print(\"고맙지?\")"
   ]
  },
  {
   "cell_type": "code",
   "execution_count": 25,
   "id": "71406713",
   "metadata": {},
   "outputs": [
    {
     "name": "stdout",
     "output_type": "stream",
     "text": [
      "나눗셈이 정수로 나와서 실망했나? 이제 내가 소수점까지 구해줄께\n",
      "정수 하나를 입력해봐 : 5\n",
      "정수 하나더 입력해~ : 6\n",
      "연산자를 입력해봐~\n",
      "연산자 : /\n",
      "나눗셈의 결과느 :  0.8333333333333334\n",
      "나눗셈이 정수로 나와서 실망했나? 이제 내가 소수점까지 구해줄께\n",
      "정수 하나를 입력해봐 : 3\n",
      "정수 하나더 입력해~ : 5\n",
      "연산자를 입력해봐~\n",
      "연산자 : +\n",
      "덧셈의 결과는 :  8.0\n",
      "나눗셈이 정수로 나와서 실망했나? 이제 내가 소수점까지 구해줄께\n",
      "정수 하나를 입력해봐 : z\n"
     ]
    },
    {
     "ename": "ValueError",
     "evalue": "could not convert string to float: 'z'",
     "output_type": "error",
     "traceback": [
      "\u001b[1;31m---------------------------------------------------------------------------\u001b[0m",
      "\u001b[1;31mValueError\u001b[0m                                Traceback (most recent call last)",
      "Cell \u001b[1;32mIn[25], line 3\u001b[0m\n\u001b[0;32m      1\u001b[0m \u001b[38;5;28;01mwhile\u001b[39;00m \u001b[38;5;28;01mTrue\u001b[39;00m:\n\u001b[0;32m      2\u001b[0m     \u001b[38;5;28mprint\u001b[39m(\u001b[38;5;124m\"\u001b[39m\u001b[38;5;124m나눗셈이 정수로 나와서 실망했나? 이제 내가 소수점까지 구해줄께\u001b[39m\u001b[38;5;124m\"\u001b[39m)\n\u001b[1;32m----> 3\u001b[0m     a \u001b[38;5;241m=\u001b[39m \u001b[38;5;28;43mfloat\u001b[39;49m\u001b[43m(\u001b[49m\u001b[38;5;28;43minput\u001b[39;49m\u001b[43m(\u001b[49m\u001b[38;5;124;43m\"\u001b[39;49m\u001b[38;5;124;43m정수 하나를 입력해봐 : \u001b[39;49m\u001b[38;5;124;43m\"\u001b[39;49m\u001b[43m)\u001b[49m\u001b[43m)\u001b[49m    \n\u001b[0;32m      4\u001b[0m     b \u001b[38;5;241m=\u001b[39m \u001b[38;5;28mfloat\u001b[39m(\u001b[38;5;28minput\u001b[39m(\u001b[38;5;124m\"\u001b[39m\u001b[38;5;124m정수 하나더 입력해~ : \u001b[39m\u001b[38;5;124m\"\u001b[39m))  \n\u001b[0;32m      5\u001b[0m     \u001b[38;5;28;01mif\u001b[39;00m a\u001b[38;5;241m==\u001b[39mb\u001b[38;5;241m==\u001b[39m\u001b[38;5;241m0\u001b[39m :\n",
      "\u001b[1;31mValueError\u001b[0m: could not convert string to float: 'z'"
     ]
    }
   ],
   "source": [
    "while True: //무한 반복을 돈다.\n",
    "    print(\"나눗셈이 정수로 나와서 실망했나? 이제 내가 소수점까지 구해줄께\")\n",
    "    a = float(input(\"정수 하나를 입력해봐 : \")) //실수형으로 입력받아 a에 담는다.\n",
    "    b = float(input(\"정수 하나더 입력해~ : \"))  //실수형으로 입력받아 b에 담는다.\n",
    "    if a==b==0 : //만약 둘다 0이라면 출력한다.\n",
    "        print(\"0을 입력하면 어떡하니?\")\n",
    "    print(\"연산자를 입력해봐~\")\n",
    "    c = input(\"연산자 : \") //문자열을 입력받아 c에 담는다.\n",
    "    if c == \"+\" : //만약 c값이 +와 같다면\n",
    "        d = a + b //a와 b를 더해 d에 담는다.\n",
    "        print(\"덧셈의 결과는 : \",d) //d를 출력한다.\n",
    "        continue //다시 위로 올라가서 진행한다, 아래는 위와 동일하다.\n",
    "    elif c == \"-\" :\n",
    "        d = a - b\n",
    "        print(\"뺄셈의 결과는 : \",d)\n",
    "        continue\n",
    "    elif c == \"*\" :\n",
    "        d = a * b\n",
    "        print(\"곱셈의 결과는 : \",d)\n",
    "        continue\n",
    "    elif c == \"/\" :\n",
    "        d = a / b\n",
    "        print(\"나눗셈의 결과느 : \",d)\n",
    "        continue"
   ]
  },
  {
   "cell_type": "code",
   "execution_count": null,
   "id": "fded9e9d",
   "metadata": {},
   "outputs": [],
   "source": []
  }
 ],
 "metadata": {
  "kernelspec": {
   "display_name": "Python 3 (ipykernel)",
   "language": "python",
   "name": "python3"
  },
  "language_info": {
   "codemirror_mode": {
    "name": "ipython",
    "version": 3
   },
   "file_extension": ".py",
   "mimetype": "text/x-python",
   "name": "python",
   "nbconvert_exporter": "python",
   "pygments_lexer": "ipython3",
   "version": "3.8.8rc1"
  }
 },
 "nbformat": 4,
 "nbformat_minor": 5
}
