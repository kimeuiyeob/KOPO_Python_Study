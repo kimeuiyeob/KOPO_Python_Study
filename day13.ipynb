{
 "cells": [
  {
   "cell_type": "code",
   "execution_count": 8,
   "id": "d19da7ec",
   "metadata": {},
   "outputs": [
    {
     "name": "stdout",
     "output_type": "stream",
     "text": [
      "myclass->2층입니다\n",
      "yourclass->6층입니다\n",
      "myclass->3층입니다\n",
      "yourclass->7층입니다\n",
      "myclass->4층입니다\n",
      "yourclass->8층입니다\n",
      "myclass->5층입니다\n",
      "yourclass->9층입니다\n",
      "myclass->6층입니다\n",
      "yourclass->10층입니다\n",
      "myclass->7층입니다\n",
      "yourclass->최상층 입니다\n",
      "myclass->8층입니다\n",
      "yourclass->최상층 입니다\n",
      "myclass->9층입니다\n",
      "yourclass->최상층 입니다\n",
      "myclass->10층입니다\n",
      "yourclass->최상층 입니다\n",
      "myclass->11층입니다\n",
      "yourclass->최상층 입니다\n",
      "myclass->12층입니다\n",
      "yourclass->최상층 입니다\n",
      "myclass->13층입니다\n",
      "yourclass->최상층 입니다\n",
      "myclass->14층입니다\n",
      "yourclass->최상층 입니다\n",
      "myclass->15층입니다\n",
      "yourclass->최상층 입니다\n",
      "myclass->최상층 입니다\n",
      "yourclass->최상층 입니다\n",
      "myclass->최상층 입니다\n",
      "yourclass->최상층 입니다\n",
      "myclass->최상층 입니다\n",
      "yourclass->최상층 입니다\n",
      "myclass->최상층 입니다\n",
      "yourclass->최상층 입니다\n",
      "myclass->최상층 입니다\n",
      "yourclass->최상층 입니다\n",
      "myclass->최상층 입니다\n",
      "yourclass->최상층 입니다\n",
      "myclass->14층입니다\n",
      "yourclass->9층입니다\n",
      "myclass->13층입니다\n",
      "yourclass->8층입니다\n",
      "myclass->12층입니다\n",
      "yourclass->7층입니다\n",
      "myclass->11층입니다\n",
      "yourclass->6층입니다\n",
      "myclass->10층입니다\n",
      "yourclass->5층입니다\n",
      "myclass->9층입니다\n",
      "yourclass->4층입니다\n",
      "myclass->8층입니다\n",
      "yourclass->3층입니다\n",
      "myclass->7층입니다\n",
      "yourclass->2층입니다\n",
      "myclass->6층입니다\n",
      "yourclass->1층입니다\n",
      "myclass->5층입니다\n",
      "yourclass->0층입니다\n",
      "myclass->4층입니다\n",
      "yourclass->-1층입니다\n",
      "myclass->3층입니다\n",
      "yourclass->최하층 입니다\n",
      "myclass->2층입니다\n",
      "yourclass->최하층 입니다\n",
      "myclass->1층입니다\n",
      "yourclass->최하층 입니다\n",
      "myclass->0층입니다\n",
      "yourclass->최하층 입니다\n",
      "myclass->최하층 입니다\n",
      "yourclass->최하층 입니다\n",
      "myclass->최하층 입니다\n",
      "yourclass->최하층 입니다\n",
      "myclass->최하층 입니다\n",
      "yourclass->최하층 입니다\n",
      "myclass->최하층 입니다\n",
      "yourclass->최하층 입니다\n",
      "myclass->최하층 입니다\n",
      "yourclass->최하층 입니다\n"
     ]
    }
   ],
   "source": [
    "#클래스 생성\n",
    "class elevator:\n",
    "    #생성자 호출하는 쪽에서는 클래스 명으로 부르고, 클래스에는 __init__로 정의함\n",
    "    def __init__(self,floor,limit_up_floor,limit_down_floor,msg):\n",
    "        self.floor=floor\n",
    "        self.limit_up_floor=limit_up_floor\n",
    "        self.limit_down_floor=limit_down_floor\n",
    "        self.msg=msg\n",
    "     \n",
    "    #올라가는 메서드   \n",
    "    def up(self):\n",
    "        #만약 현재층이 마지막층이라면 최상층 출력\n",
    "        if self.floor == self.limit_up_floor:\n",
    "            self.msg=\"최상층 입니다\"\n",
    "            print(self.msg)\n",
    "        #아니면 1층 증감한뒤 현재층 출력\n",
    "        else:\n",
    "            self.floor+=1\n",
    "            self.msg=str(self.floor)+\"층입니다\"\n",
    "            print(self.msg)\n",
    "      \n",
    "    #내려가는 메서드\n",
    "    def down(self):\n",
    "        #만약 현재층이 맨 아래층이면 최하층 출력\n",
    "        if self.floor == self.limit_down_floor:\n",
    "            self.msg=\"최하층 입니다\"\n",
    "            print(self.msg)\n",
    "        #아니면 1층 내려간뒤 현재층 출력\n",
    "        else:\n",
    "            self.floor-=1\n",
    "            self.msg=str(self.floor)+\"층입니다\"\n",
    "            print(self.msg)\n",
    "\n",
    "#생성자로 생성후 myclass , yourclass에 각각의 현재층 최저층 최고층 담는다.\n",
    "myclass = elevator(1,15,0,\"\") #(현재1층, 최저0층, 최고15층, 메시지)값으로 클래스생성\n",
    "yourclass = elevator(5,10,-1,\"\") #(현재5층, 최저-1층, 최고10층, 메시지)값으로 클래스생성\n",
    "\n",
    "for i in range(20): #20번 up()를 실행\n",
    "    print(\"myclass->\",end=\"\")\n",
    "    myclass.up()\n",
    "    print(\"yourclass->\",end=\"\")\n",
    "    yourclass.up()\n",
    "\n",
    "for i in range(20): #20번 down()을 실행\n",
    "    print(\"myclass->\",end=\"\")\n",
    "    myclass.down()\n",
    "    print(\"yourclass->\",end=\"\")\n",
    "    yourclass.down()"
   ]
  },
  {
   "cell_type": "code",
   "execution_count": 11,
   "id": "100a1c51",
   "metadata": {},
   "outputs": [
    {
     "name": "stdout",
     "output_type": "stream",
     "text": [
      "3125\n"
     ]
    }
   ],
   "source": [
    "#multibox클래스 생성\n",
    "class multibox:\n",
    "    #생성자\n",
    "    def __init__(self,multi):\n",
    "        self.multi=multi\n",
    "    #get으로 리턴할때 거듭제곱으로 리턴\n",
    "    def getnumber(self):\n",
    "        return self.num**self.multi\n",
    "    #set으로 파라미터의 값을 저장\n",
    "    def setnumber(self,num):\n",
    "        self.num=num\n",
    "#multibox클래스 생성뒤 m에 담는다.   \n",
    "m=multibox(5)\n",
    "#set으로 값을 보내준다.\n",
    "m.setnumber(5)\n",
    "#리턴받은값을 출력한다.\n",
    "print(m.getnumber())"
   ]
  },
  {
   "cell_type": "code",
   "execution_count": 12,
   "id": "2f334618",
   "metadata": {},
   "outputs": [
    {
     "name": "stdout",
     "output_type": "stream",
     "text": [
      "3125\n"
     ]
    }
   ],
   "source": [
    "#multibox클래스 생성\n",
    "class multibox:\n",
    "    #생성자\n",
    "    def __init__(self,multi):\n",
    "        self.multi=multi\n",
    "    #get으로 리턴할때 거듭제곱으로 리턴\n",
    "    def getnumber(self):\n",
    "        return self.num**self.multi\n",
    "    #set으로 파라미터의 값을 저장\n",
    "    def setnumber(self,num):\n",
    "        self.num=num\n",
    "    #property를 이용하여 getter,setter를 정의\n",
    "    number=property(getnumber,setnumber)\n",
    "\n",
    "#multibox클래스 생성뒤 m에 담는다.   \n",
    "m=multibox(5)\n",
    "#set으로 값을 보내준다.\n",
    "m.setnumber(5)\n",
    "#property출력\n",
    "print(m.number)"
   ]
  },
  {
   "cell_type": "code",
   "execution_count": 16,
   "id": "1b400006",
   "metadata": {},
   "outputs": [
    {
     "name": "stdout",
     "output_type": "stream",
     "text": [
      "3125\n"
     ]
    }
   ],
   "source": [
    "#multibox클래스 생성\n",
    "class multibox:\n",
    "    #생성자\n",
    "    def __init__(self,multi):\n",
    "        self.multi=multi\n",
    "    #데코레이터(@)를 이용하여 getter,setter를 정의할 수 있다. \n",
    "    #@property, @**.setter로 정의함\n",
    "    @property\n",
    "    def number(self):\n",
    "        return self.num**self.multi\n",
    "    \n",
    "    @number.setter\n",
    "    def number(self,num):\n",
    "        self.num=num\n",
    "        \n",
    "#multibox클래스 생성뒤 m에 담는다.        \n",
    "m=multibox(5)\n",
    "#set으로 값을 보내준다.\n",
    "m.number=5\n",
    "print(m.number)"
   ]
  },
  {
   "cell_type": "code",
   "execution_count": 18,
   "id": "2a28f47c",
   "metadata": {},
   "outputs": [
    {
     "name": "stdout",
     "output_type": "stream",
     "text": [
      "클래스 참조횟수는 3 회 입니다\n"
     ]
    }
   ],
   "source": [
    "class myclass:\n",
    "    #self가 없는 myclass에서 사용되는 내부 static변수\n",
    "    cnt=0 \n",
    "    #생성자\n",
    "    def __init__(self):\n",
    "        #myclass의 static변수에 1증가\n",
    "        myclass.cnt+=1 \n",
    "        \n",
    "    @classmethod #클래스 메서드 선언\n",
    "    def refcount(cls): #self가 아니라 cls로 정의\n",
    "        print(\"클래스 참조횟수는\",cls.cnt,\"회 입니다\")\n",
    "        \n",
    "a=myclass()\n",
    "b=myclass()\n",
    "c=myclass()\n",
    "myclass.refcount()"
   ]
  },
  {
   "cell_type": "code",
   "execution_count": 19,
   "id": "4cf1cb20",
   "metadata": {},
   "outputs": [
    {
     "name": "stdout",
     "output_type": "stream",
     "text": [
      "이 클래스는 아무런 일도 하지 않는다\n",
      "이 클래스는 아무런 일도 하지 않는다\n"
     ]
    }
   ],
   "source": [
    "class myclass:\n",
    "    #변수 생성 1초기화\n",
    "    cnt=0\n",
    "    #생성자\n",
    "    def __init__(self):\n",
    "        #cnt1 증감\n",
    "        myclass.cnt+=1\n",
    "        \n",
    "    #정적 메서드, 생성되는 클래스와는 별개로 하나의 역할을 수행하는 메서드    \n",
    "    @staticmethod\n",
    "    def helf():\n",
    "        print(\"이 클래스는 아무런 일도 하지 않는다\")\n",
    "        \n",
    "myclass.helf()\n",
    "a=myclass()\n",
    "myclass.helf()"
   ]
  },
  {
   "cell_type": "code",
   "execution_count": 20,
   "id": "20004006",
   "metadata": {},
   "outputs": [
    {
     "name": "stdout",
     "output_type": "stream",
     "text": [
      "defabc\n"
     ]
    }
   ],
   "source": [
    "class mystr:\n",
    "    def __init__(self,s):\n",
    "        self.s=s\n",
    "        \n",
    "    def __add__(self, other): # 클래스간 +연산자를 정의\n",
    "        return other.s + self.s # 문자간 연산을 반대로 수행\n",
    "    \n",
    "a = mystr(\"abc\")\n",
    "b = mystr(\"def\")\n",
    "#반대로 출력\n",
    "print(a+b)"
   ]
  },
  {
   "cell_type": "code",
   "execution_count": 21,
   "id": "cd4396d2",
   "metadata": {},
   "outputs": [
    {
     "name": "stdout",
     "output_type": "stream",
     "text": [
      "9.99999999999998\n"
     ]
    }
   ],
   "source": [
    "sum=0\n",
    "for i in range(100):\n",
    "        sum+=0.1\n",
    "        \n",
    "#오차발생 0.1을 100번 더하면 10이지만 9.99999999999998가 나옴       \n",
    "print(sum)"
   ]
  },
  {
   "cell_type": "code",
   "execution_count": 22,
   "id": "832f0e64",
   "metadata": {},
   "outputs": [
    {
     "name": "stdout",
     "output_type": "stream",
     "text": [
      "0.1 => 9.99999999999998\n",
      "0.1000000000000000055511151231257827021181583404541015625 => 10.00000000000000055511151230\n",
      "0.1 => 10.0\n"
     ]
    }
   ],
   "source": [
    "#Decimal클래스는 문자형을 숫자형(정수형)으로 바꾸는데 사용한다.\n",
    "from decimal import Decimal\n",
    "#변수 3개 생성\n",
    "a_sum=0;b_sum=0;c_sum=0\n",
    "#3가지 상황 비교\n",
    "a=0.1\n",
    "b=Decimal(a)\n",
    "c=Decimal(\"0.1\")\n",
    "#100번 반복 각각의 값을 누적\n",
    "for i in range(100):\n",
    "    a_sum+=a\n",
    "    b_sum+=b\n",
    "    c_sum+=c\n",
    "    \n",
    "print(a,\"=>\",a_sum)\n",
    "print(b,\"=>\",b_sum)\n",
    "print(c,\"=>\",c_sum)"
   ]
  },
  {
   "cell_type": "code",
   "execution_count": 23,
   "id": "f25646fc",
   "metadata": {},
   "outputs": [
    {
     "name": "stdout",
     "output_type": "stream",
     "text": [
      "2/3 + 1/2 = 7/6\n",
      "2/3 * 1/2 = 1/3\n",
      "2/3 * 1.5 = 2.1666666666666665\n"
     ]
    }
   ],
   "source": [
    "#분수를 나타내 주고 분수계산이 가능한 클래스\n",
    "from fractions import *\n",
    "\n",
    "a=Fraction(2,3) #3분의 2\n",
    "b=Fraction(5,10) #10분의 5로 약분되어 1/2\n",
    "\n",
    "print(a,\"+\",b,\"=\",a+b)\n",
    "print(a,\"*\",b,\"=\",a*b)\n",
    "print(a,\"*\",1.5,\"=\",a+1.5)"
   ]
  },
  {
   "cell_type": "code",
   "execution_count": null,
   "id": "62fc9cf9",
   "metadata": {},
   "outputs": [],
   "source": []
  }
 ],
 "metadata": {
  "kernelspec": {
   "display_name": "Python 3 (ipykernel)",
   "language": "python",
   "name": "python3"
  },
  "language_info": {
   "codemirror_mode": {
    "name": "ipython",
    "version": 3
   },
   "file_extension": ".py",
   "mimetype": "text/x-python",
   "name": "python",
   "nbconvert_exporter": "python",
   "pygments_lexer": "ipython3",
   "version": "3.8.8rc1"
  }
 },
 "nbformat": 4,
 "nbformat_minor": 5
}
