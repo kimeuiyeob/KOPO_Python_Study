{
 "cells": [
  {
   "cell_type": "code",
   "execution_count": 12,
   "id": "a21bce58",
   "metadata": {},
   "outputs": [
    {
     "name": "stdout",
     "output_type": "stream",
     "text": [
      "가위바위보 게임을 시작하지!\n",
      "종료하려면 '그만하자'을 입력하라구~\n",
      "무엇을 내시겠나? 가위,바위,보 중에서 선택!!바위\n",
      "ME: 바위 / COMPUTER: 보\n",
      "컴퓨터가 이겼습니다.\n",
      "가위바위보 게임을 시작하지!\n",
      "종료하려면 '그만하자'을 입력하라구~\n",
      "무엇을 내시겠나? 가위,바위,보 중에서 선택!!그만하자\n",
      "게임을 종료합니다.~~\n"
     ]
    }
   ],
   "source": [
    "import random\n",
    "\n",
    "while True:\n",
    "    print(\"가위바위보 게임을 시작하지!\")\n",
    "    print(\"종료하려면 '그만하자'을 입력하라구~\")\n",
    "    user = input(\"무엇을 내시겠나? 가위,바위,보 중에서 선택!!\")\n",
    "    computer = random.choice([\"가위\", \"바위\", \"보\"])\n",
    "\n",
    "    if user == \"그만하자\":\n",
    "        print(\"게임을 종료합니다.~~\")\n",
    "        break\n",
    "\n",
    "    if user not in [\"가위\", \"바위\", \"보\"]:\n",
    "        print(\"가위 바위 보중 입력하라구~~\")\n",
    "        continue\n",
    "\n",
    "    print(f\"ME: {user} / COMPUTER: {computer}\")\n",
    "\n",
    "    if user == computer:\n",
    "        print(\"비겼습니다.\")\n",
    "    elif user == \"가위\":\n",
    "        if computer == \"바위\":\n",
    "            print(\"컴퓨터가 이겼습니다.\")\n",
    "        else:\n",
    "            print(\"유저가 이겼습니다.\")\n",
    "    elif user == \"바위\":\n",
    "        if computer == \"보\":\n",
    "            print(\"컴퓨터가 이겼습니다.\")\n",
    "        else:\n",
    "            print(\"유저가 이겼습니다.\")\n",
    "    elif user == \"보\":\n",
    "        if computer == \"가위\":\n",
    "            print(\"컴퓨터가 이겼습니다.\")\n",
    "        else:\n",
    "            print(\"유저가 이겼습니다.\")"
   ]
  },
  {
   "cell_type": "code",
   "execution_count": 11,
   "id": "eea2bf04",
   "metadata": {},
   "outputs": [
    {
     "name": "stdout",
     "output_type": "stream",
     "text": [
      "숫자를 입력해봐 그럼 369박수치는걸 보여줄께\n",
      "숫자 입력 : 20\n",
      "1\n",
      "2\n",
      "짝\n",
      "4\n",
      "5\n",
      "짝\n",
      "7\n",
      "8\n",
      "짝\n",
      "10\n",
      "11\n",
      "12\n",
      "짝\n",
      "14\n",
      "15\n",
      "짝\n",
      "17\n",
      "18\n",
      "짝\n",
      "20\n"
     ]
    }
   ],
   "source": [
    "print(\"숫자를 입력해봐 그럼 369박수치는걸 보여줄께\")\n",
    "number= int(input(\"숫자 입력 : \"))\n",
    "\n",
    "for i in range(1, number + 1):\n",
    "    if '3' in str(i) or '6' in str(i) or '9' in str(i):\n",
    "        print('짝'*(str(i).count('3')+str(i).count('6')+str(i).count('9')))\n",
    "    else:\n",
    "        print(i)"
   ]
  },
  {
   "cell_type": "code",
   "execution_count": 13,
   "id": "9f4a9b2a",
   "metadata": {},
   "outputs": [
    {
     "name": "stdout",
     "output_type": "stream",
     "text": [
      "이제부터 UP & DOWN 게임을 시작하지\n",
      "1~100 까지 숫자중 선택해봐~\n",
      "숫자 입력 : 50\n",
      "DOWNNNNNNNNNNNNNNNNN\n",
      "숫자 입력 : 30\n",
      "UPPPPPPPPPPPPPPPPPPP\n",
      "숫자 입력 : 40\n",
      "DOWNNNNNNNNNNNNNNNNN\n",
      "숫자 입력 : 35\n",
      "정답이군!!! 맞추는데4번 걸렸군!!\n"
     ]
    }
   ],
   "source": [
    "import random\n",
    "\n",
    "number = random.randint(1, 100)\n",
    "count = 0\n",
    "\n",
    "print(\"이제부터 UP & DOWN 게임을 시작하지\")\n",
    "print(\"1~100 까지 숫자중 선택해봐~\")\n",
    "\n",
    "while True:\n",
    "    count += 1\n",
    "    guess = int(input(\"숫자 입력 : \"))\n",
    "\n",
    "    if guess < number:\n",
    "        print(\"UPPPPPPPPPPPPPPPPPPP\")\n",
    "    elif guess > number:\n",
    "        print(\"DOWNNNNNNNNNNNNNNNNN\")\n",
    "    else:\n",
    "        print(f\"정답이군!!! 맞추는데{count}번 걸렸군!!\")\n",
    "        break"
   ]
  },
  {
   "cell_type": "code",
   "execution_count": 14,
   "id": "2d59d891",
   "metadata": {},
   "outputs": [
    {
     "name": "stdout",
     "output_type": "stream",
     "text": [
      "숫자 야구 게임을 시작합니다.\n",
      "0부터 9까지의 숫자 중 세 개를 선택하세요.\n",
      "1번째 숫자를 입력하세요: 3\n",
      "2번째 숫자를 입력하세요: 5\n",
      "3번째 숫자를 입력하세요: 3\n",
      "3번째 숫자를 입력하세요: 5\n",
      "3번째 숫자를 입력하세요: 4\n",
      "1 스트라이크, 0 볼\n",
      "0부터 9까지의 숫자 중 세 개를 선택하세요.\n",
      "1번째 숫자를 입력하세요: 3\n",
      "2번째 숫자를 입력하세요: 2\n",
      "3번째 숫자를 입력하세요: 3\n",
      "3번째 숫자를 입력하세요: 4\n",
      "1 스트라이크, 0 볼\n",
      "0부터 9까지의 숫자 중 세 개를 선택하세요.\n",
      "1번째 숫자를 입력하세요: \n"
     ]
    },
    {
     "ename": "ValueError",
     "evalue": "invalid literal for int() with base 10: ''",
     "output_type": "error",
     "traceback": [
      "\u001b[1;31m---------------------------------------------------------------------------\u001b[0m",
      "\u001b[1;31mValueError\u001b[0m                                Traceback (most recent call last)",
      "Cell \u001b[1;32mIn[14], line 41\u001b[0m\n\u001b[0;32m     38\u001b[0m solution \u001b[38;5;241m=\u001b[39m generate_numbers()\n\u001b[0;32m     40\u001b[0m \u001b[38;5;28;01mwhile\u001b[39;00m \u001b[38;5;28;01mTrue\u001b[39;00m:\n\u001b[1;32m---> 41\u001b[0m     guess \u001b[38;5;241m=\u001b[39m \u001b[43mtake_guess\u001b[49m\u001b[43m(\u001b[49m\u001b[43m)\u001b[49m\n\u001b[0;32m     43\u001b[0m     strike_count, ball_count \u001b[38;5;241m=\u001b[39m get_score(guess, solution)\n\u001b[0;32m     44\u001b[0m     \u001b[38;5;28mprint\u001b[39m(\u001b[38;5;124mf\u001b[39m\u001b[38;5;124m\"\u001b[39m\u001b[38;5;132;01m{\u001b[39;00mstrike_count\u001b[38;5;132;01m}\u001b[39;00m\u001b[38;5;124m 스트라이크, \u001b[39m\u001b[38;5;132;01m{\u001b[39;00mball_count\u001b[38;5;132;01m}\u001b[39;00m\u001b[38;5;124m 볼\u001b[39m\u001b[38;5;124m\"\u001b[39m)\n",
      "Cell \u001b[1;32mIn[14], line 18\u001b[0m, in \u001b[0;36mtake_guess\u001b[1;34m()\u001b[0m\n\u001b[0;32m     15\u001b[0m guess \u001b[38;5;241m=\u001b[39m []\n\u001b[0;32m     17\u001b[0m \u001b[38;5;28;01mwhile\u001b[39;00m \u001b[38;5;28mlen\u001b[39m(guess) \u001b[38;5;241m<\u001b[39m \u001b[38;5;241m3\u001b[39m:\n\u001b[1;32m---> 18\u001b[0m     num \u001b[38;5;241m=\u001b[39m \u001b[38;5;28;43mint\u001b[39;49m\u001b[43m(\u001b[49m\u001b[38;5;28;43minput\u001b[39;49m\u001b[43m(\u001b[49m\u001b[38;5;124;43mf\u001b[39;49m\u001b[38;5;124;43m\"\u001b[39;49m\u001b[38;5;132;43;01m{\u001b[39;49;00m\u001b[38;5;28;43mlen\u001b[39;49m\u001b[43m(\u001b[49m\u001b[43mguess\u001b[49m\u001b[43m)\u001b[49m\u001b[38;5;241;43m+\u001b[39;49m\u001b[38;5;241;43m1\u001b[39;49m\u001b[38;5;132;43;01m}\u001b[39;49;00m\u001b[38;5;124;43m번째 숫자를 입력하세요: \u001b[39;49m\u001b[38;5;124;43m\"\u001b[39;49m\u001b[43m)\u001b[49m\u001b[43m)\u001b[49m\n\u001b[0;32m     19\u001b[0m     \u001b[38;5;28;01mif\u001b[39;00m num \u001b[38;5;129;01mnot\u001b[39;00m \u001b[38;5;129;01min\u001b[39;00m guess:\n\u001b[0;32m     20\u001b[0m         guess\u001b[38;5;241m.\u001b[39mappend(num)\n",
      "\u001b[1;31mValueError\u001b[0m: invalid literal for int() with base 10: ''"
     ]
    }
   ],
   "source": [
    "import random\n",
    "\n",
    "def generate_numbers():\n",
    "    numbers = []\n",
    "\n",
    "    while len(numbers) < 3:\n",
    "        num = random.randint(0, 9)\n",
    "        if num not in numbers:\n",
    "            numbers.append(num)\n",
    "\n",
    "    return numbers\n",
    "\n",
    "def take_guess():\n",
    "    print(\"0부터 9까지의 숫자 중 세 개를 선택하세요.\")\n",
    "    guess = []\n",
    "\n",
    "    while len(guess) < 3:\n",
    "        num = int(input(f\"{len(guess)+1}번째 숫자를 입력하세요: \"))\n",
    "        if num not in guess:\n",
    "            guess.append(num)\n",
    "\n",
    "    return guess\n",
    "\n",
    "def get_score(guess, solution):\n",
    "    strike_count = 0\n",
    "    ball_count = 0\n",
    "\n",
    "    for i in range(3):\n",
    "        if guess[i] == solution[i]:\n",
    "            strike_count += 1\n",
    "        elif guess[i] in solution:\n",
    "            ball_count += 1\n",
    "\n",
    "    return strike_count, ball_count\n",
    "\n",
    "print(\"숫자 야구 게임을 시작합니다.\")\n",
    "\n",
    "solution = generate_numbers()\n",
    "\n",
    "while True:\n",
    "    guess = take_guess()\n",
    "\n",
    "    strike_count, ball_count = get_score(guess, solution)\n",
    "    print(f\"{strike_count} 스트라이크, {ball_count} 볼\")\n",
    "\n",
    "    if strike_count == 3:\n",
    "        print(\"축하합니다! 정답을 맞추셨습니다.\")\n",
    "        break"
   ]
  },
  {
   "cell_type": "code",
   "execution_count": null,
   "id": "aad06893",
   "metadata": {},
   "outputs": [],
   "source": []
  }
 ],
 "metadata": {
  "kernelspec": {
   "display_name": "Python 3 (ipykernel)",
   "language": "python",
   "name": "python3"
  },
  "language_info": {
   "codemirror_mode": {
    "name": "ipython",
    "version": 3
   },
   "file_extension": ".py",
   "mimetype": "text/x-python",
   "name": "python",
   "nbconvert_exporter": "python",
   "pygments_lexer": "ipython3",
   "version": "3.8.8rc1"
  }
 },
 "nbformat": 4,
 "nbformat_minor": 5
}
