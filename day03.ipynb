{
 "cells": [
  {
   "cell_type": "code",
   "execution_count": 18,
   "id": "20a5c4ea",
   "metadata": {},
   "outputs": [
    {
     "name": "stdout",
     "output_type": "stream",
     "text": [
      "10\n",
      "15\n",
      "1\n"
     ]
    }
   ],
   "source": [
    "print(0b1010) //10출력\n",
    "print(0b1111) //15출력\n",
    "print(0b0001) //1출력"
   ]
  },
  {
   "cell_type": "code",
   "execution_count": 19,
   "id": "d4c701f1",
   "metadata": {},
   "outputs": [
    {
     "ename": "SyntaxError",
     "evalue": "invalid digit '2' in binary literal (2840881937.py, line 1)",
     "output_type": "error",
     "traceback": [
      "\u001b[1;36m  Cell \u001b[1;32mIn[19], line 1\u001b[1;36m\u001b[0m\n\u001b[1;33m    print(0b0201)\u001b[0m\n\u001b[1;37m             ^\u001b[0m\n\u001b[1;31mSyntaxError\u001b[0m\u001b[1;31m:\u001b[0m invalid digit '2' in binary literal\n"
     ]
    }
   ],
   "source": [
    "print(0b0201)"
   ]
  },
  {
   "cell_type": "code",
   "execution_count": 21,
   "id": "c0f41194",
   "metadata": {},
   "outputs": [
    {
     "name": "stdout",
     "output_type": "stream",
     "text": [
      "16\n",
      "26\n",
      "47\n"
     ]
    }
   ],
   "source": [
    "print(0x10) //16출력\n",
    "print(0x1a) //26출력\n",
    "print(0x2f) //47출력"
   ]
  },
  {
   "cell_type": "code",
   "execution_count": 22,
   "id": "c01494b4",
   "metadata": {},
   "outputs": [
    {
     "ename": "SyntaxError",
     "evalue": "invalid syntax (3426787330.py, line 1)",
     "output_type": "error",
     "traceback": [
      "\u001b[1;36m  Cell \u001b[1;32mIn[22], line 1\u001b[1;36m\u001b[0m\n\u001b[1;33m    print(0x3z)\u001b[0m\n\u001b[1;37m             ^\u001b[0m\n\u001b[1;31mSyntaxError\u001b[0m\u001b[1;31m:\u001b[0m invalid syntax\n"
     ]
    }
   ],
   "source": [
    "print(0x3z)"
   ]
  },
  {
   "cell_type": "code",
   "execution_count": 23,
   "id": "92107f8e",
   "metadata": {},
   "outputs": [
    {
     "name": "stdout",
     "output_type": "stream",
     "text": [
      "0xc\n",
      "0o26\n",
      "0b100001\n"
     ]
    }
   ],
   "source": [
    "print(hex(12));print(oct(22));print(bin(33))\n",
    "//hex() 16진수 , bin() 2진수 , oct() 8진수"
   ]
  },
  {
   "cell_type": "code",
   "execution_count": 24,
   "id": "48ddecdd",
   "metadata": {},
   "outputs": [
    {
     "name": "stdout",
     "output_type": "stream",
     "text": [
      "9460000000000.0\n"
     ]
    }
   ],
   "source": [
    "print(9.46e12) //9.46 * 10의 12승"
   ]
  },
  {
   "cell_type": "code",
   "execution_count": 25,
   "id": "8c60e354",
   "metadata": {},
   "outputs": [
    {
     "name": "stdout",
     "output_type": "stream",
     "text": [
      "1.2131232417683412e+32\n"
     ]
    }
   ],
   "source": [
    "print(9.46e12 + 121312324176834127678963412341298)"
   ]
  },
  {
   "cell_type": "code",
   "execution_count": 26,
   "id": "6bba2e3b",
   "metadata": {},
   "outputs": [
    {
     "name": "stdout",
     "output_type": "stream",
     "text": [
      "(2+0j) (5+0j)\n"
     ]
    }
   ],
   "source": [
    "a = 1+2j\n",
    "b = 1-2j\n",
    "print(a+b,a*b)"
   ]
  },
  {
   "cell_type": "code",
   "execution_count": 28,
   "id": "83ec2012",
   "metadata": {},
   "outputs": [
    {
     "name": "stdout",
     "output_type": "stream",
     "text": [
      "aaaaaaaaa\n",
      "bbbbbbbbbbbbbbb\n"
     ]
    }
   ],
   "source": [
    "a = \"aaa\"\n",
    "b = \"bbb\"\n",
    "print(a*3) //a문자열 5번 곱한다.\n",
    "print(b*5) //b문자열 5번 곱한다."
   ]
  },
  {
   "cell_type": "code",
   "execution_count": 30,
   "id": "cced4789",
   "metadata": {},
   "outputs": [
    {
     "name": "stdout",
     "output_type": "stream",
     "text": [
      "호랑이가 \"떡하나 주면 안잡아 먹지\" 라고 말했습니다.\n",
      "호랑이가 \"떡하나 주면 안잡아 먹지\" 라고 말했습니다.\n",
      "I say \"I Love You\"\n"
     ]
    }
   ],
   "source": [
    "print('호랑이가 \"떡하나 주면 안잡아 먹지\" 라고 말했습니다.') //바깥에 ''이있어서 내부에 \"\"있어서 같이출력된다\n",
    "print(\"호랑이가 \\\"떡하나 주면 안잡아 먹지\\\" 라고 말했습니다.\")\n",
    "print(\"I say \\\"I Love You\\\"\")"
   ]
  },
  {
   "cell_type": "code",
   "execution_count": 31,
   "id": "aa7160cb",
   "metadata": {},
   "outputs": [
    {
     "name": "stdout",
     "output_type": "stream",
     "text": [
      "오늘 열심히 파이썬을 공부했습니다.\n",
      "내일도 열심히 파이썬을 공부할 것입니다.\n",
      "그래서 일등할 것입니다\n",
      "오늘 열심히 파이썬을 공부했습니다. 내일도 열심히 파이썬을 공부할 것입니다. 그래서 일등할 것입니다\n"
     ]
    }
   ],
   "source": [
    "print(\"\"\"오늘 열심히 파이썬을 공부했습니다. //\"\"\"로 문자열안에 그대로 출력된다..\n",
    "내일도 열심히 파이썬을 공부할 것입니다.\n",
    "그래서 일등할 것입니다\"\"\")\n",
    "print(\"오늘 열심히 파이썬을 공부했습니다. \\ //\\ 연결시켜준다.\n",
    "내일도 열심히 파이썬을 공부할 것입니다. \\\n",
    "그래서 일등할 것입니다\")"
   ]
  },
  {
   "cell_type": "code",
   "execution_count": 32,
   "id": "dca68ec5",
   "metadata": {},
   "outputs": [
    {
     "name": "stdout",
     "output_type": "stream",
     "text": [
      "오늘은즐거운일요일\n",
      "오늘 열심히 파이썬을 공부했습니다. \n",
      "내일도 열심히 파이썬을 공부할 것입니다. \n",
      "그래서 일등할 것입니다\n"
     ]
    }
   ],
   "source": [
    "a = \"오늘은\" \"즐거운\" \"일요일\" //3문자열이 합쳐져서 a에 저장\n",
    "print(a)\n",
    "print(\"오늘 열심히 파이썬을 공부했습니다. \\n\" //\\n줄바꿈\n",
    "\"내일도 열심히 파이썬을 공부할 것입니다. \\n\"\n",
    "\"그래서 일등할 것입니다\")"
   ]
  },
  {
   "cell_type": "code",
   "execution_count": 35,
   "id": "0c1e7b16",
   "metadata": {},
   "outputs": [
    {
     "name": "stdout",
     "output_type": "stream",
     "text": [
      "False\n",
      "True\n",
      "True\n",
      "True\n"
     ]
    }
   ],
   "source": [
    "a = True \n",
    "b = False\n",
    "print(a and b) //and는 두개다 같아야한다.\n",
    "print(a or b) //or은 하나만 true라면 true\n",
    "print(a and not b) //b가 not으로 true로 되서 true\n",
    "a = 0\n",
    "b = a==0 //true가 b로 들어가서\n",
    "print(b) //true"
   ]
  },
  {
   "cell_type": "code",
   "execution_count": 36,
   "id": "e0c2e713",
   "metadata": {},
   "outputs": [
    {
     "name": "stdout",
     "output_type": "stream",
     "text": [
      "참\n"
     ]
    }
   ],
   "source": [
    "a = True\n",
    "b = False\n",
    "if 1 > 2 and a and b or b or a : //순서대로 false -> false -> false -> false -> true\n",
    "    print(\"참\") //출력\n",
    "else :\n",
    "    print(\"거짓\")"
   ]
  },
  {
   "cell_type": "code",
   "execution_count": 37,
   "id": "db182a46",
   "metadata": {},
   "outputs": [
    {
     "name": "stdout",
     "output_type": "stream",
     "text": [
      "['빨', '주', '노', '초', '파', '남', '보']\n"
     ]
    }
   ],
   "source": [
    "rainbow = [\"빨\",\"주\",\"노\",\"초\",\"파\",\"남\",\"보\"] //배열 생성 각각의 문자 담는다.\n",
    "print(rainbow) //출력"
   ]
  },
  {
   "cell_type": "code",
   "execution_count": 38,
   "id": "d6c73038",
   "metadata": {
    "scrolled": true
   },
   "outputs": [
    {
     "name": "stdout",
     "output_type": "stream",
     "text": [
      "빨강 색\n",
      "주황 색\n",
      "노랑 색\n",
      "초록 색\n",
      "파랑 색\n",
      "남색 색\n",
      "보라 색\n"
     ]
    }
   ],
   "source": [
    "rainbow = [\"빨강\",\"주황\",\"노랑\",\"초록\",\"파랑\",\"남색\",\"보라\"] //배열 생성 각각의 문자 담는다.\n",
    "for color in rainbow : //forEach같은 느낌으로 color에 하나의 값을 담고 출력한다.\n",
    "    print(color,\"색\")"
   ]
  },
  {
   "cell_type": "code",
   "execution_count": 39,
   "id": "d8f9c5d4",
   "metadata": {},
   "outputs": [
    {
     "name": "stdout",
     "output_type": "stream",
     "text": [
      "빨강 색\n",
      "주황 색\n",
      "노랑 색\n",
      "초록 색\n",
      "파랑 색\n",
      "남색 색\n",
      "보라 색\n"
     ]
    }
   ],
   "source": [
    "rainbow = (\"빨강\",\"주황\",\"노랑\",\"초록\",\"파랑\",\"남색\",\"보라\") //위와 동일하지만 값을 변경못한다.\n",
    "for color in rainbow :\n",
    "    print(color,\"색\")"
   ]
  },
  {
   "cell_type": "code",
   "execution_count": null,
   "id": "89b96c22",
   "metadata": {},
   "outputs": [],
   "source": []
  }
 ],
 "metadata": {
  "kernelspec": {
   "display_name": "Python 3 (ipykernel)",
   "language": "python",
   "name": "python3"
  },
  "language_info": {
   "codemirror_mode": {
    "name": "ipython",
    "version": 3
   },
   "file_extension": ".py",
   "mimetype": "text/x-python",
   "name": "python",
   "nbconvert_exporter": "python",
   "pygments_lexer": "ipython3",
   "version": "3.8.8rc1"
  }
 },
 "nbformat": 4,
 "nbformat_minor": 5
}
